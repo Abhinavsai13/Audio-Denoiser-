{
  "nbformat": 4,
  "nbformat_minor": 0,
  "metadata": {
    "colab": {
      "provenance": [],
      "gpuType": "T4"
    },
    "kernelspec": {
      "name": "python3",
      "display_name": "Python 3"
    },
    "language_info": {
      "name": "python"
    },
    "accelerator": "GPU"
  },
  "cells": [
    {
      "cell_type": "code",
      "source": [
        "from google.colab import files\n",
        "files.upload()  # Upload kaggle.json\n"
      ],
      "metadata": {
        "colab": {
          "base_uri": "https://localhost:8080/",
          "height": 91
        },
        "id": "1qQkC69SQkoX",
        "outputId": "e8d92d9e-60bb-43a2-d48d-e113026bb326"
      },
      "execution_count": 1,
      "outputs": [
        {
          "output_type": "display_data",
          "data": {
            "text/plain": [
              "<IPython.core.display.HTML object>"
            ],
            "text/html": [
              "\n",
              "     <input type=\"file\" id=\"files-39cafd8a-7a7e-489a-b946-c9157e84d85f\" name=\"files[]\" multiple disabled\n",
              "        style=\"border:none\" />\n",
              "     <output id=\"result-39cafd8a-7a7e-489a-b946-c9157e84d85f\">\n",
              "      Upload widget is only available when the cell has been executed in the\n",
              "      current browser session. Please rerun this cell to enable.\n",
              "      </output>\n",
              "      <script>// Copyright 2017 Google LLC\n",
              "//\n",
              "// Licensed under the Apache License, Version 2.0 (the \"License\");\n",
              "// you may not use this file except in compliance with the License.\n",
              "// You may obtain a copy of the License at\n",
              "//\n",
              "//      http://www.apache.org/licenses/LICENSE-2.0\n",
              "//\n",
              "// Unless required by applicable law or agreed to in writing, software\n",
              "// distributed under the License is distributed on an \"AS IS\" BASIS,\n",
              "// WITHOUT WARRANTIES OR CONDITIONS OF ANY KIND, either express or implied.\n",
              "// See the License for the specific language governing permissions and\n",
              "// limitations under the License.\n",
              "\n",
              "/**\n",
              " * @fileoverview Helpers for google.colab Python module.\n",
              " */\n",
              "(function(scope) {\n",
              "function span(text, styleAttributes = {}) {\n",
              "  const element = document.createElement('span');\n",
              "  element.textContent = text;\n",
              "  for (const key of Object.keys(styleAttributes)) {\n",
              "    element.style[key] = styleAttributes[key];\n",
              "  }\n",
              "  return element;\n",
              "}\n",
              "\n",
              "// Max number of bytes which will be uploaded at a time.\n",
              "const MAX_PAYLOAD_SIZE = 100 * 1024;\n",
              "\n",
              "function _uploadFiles(inputId, outputId) {\n",
              "  const steps = uploadFilesStep(inputId, outputId);\n",
              "  const outputElement = document.getElementById(outputId);\n",
              "  // Cache steps on the outputElement to make it available for the next call\n",
              "  // to uploadFilesContinue from Python.\n",
              "  outputElement.steps = steps;\n",
              "\n",
              "  return _uploadFilesContinue(outputId);\n",
              "}\n",
              "\n",
              "// This is roughly an async generator (not supported in the browser yet),\n",
              "// where there are multiple asynchronous steps and the Python side is going\n",
              "// to poll for completion of each step.\n",
              "// This uses a Promise to block the python side on completion of each step,\n",
              "// then passes the result of the previous step as the input to the next step.\n",
              "function _uploadFilesContinue(outputId) {\n",
              "  const outputElement = document.getElementById(outputId);\n",
              "  const steps = outputElement.steps;\n",
              "\n",
              "  const next = steps.next(outputElement.lastPromiseValue);\n",
              "  return Promise.resolve(next.value.promise).then((value) => {\n",
              "    // Cache the last promise value to make it available to the next\n",
              "    // step of the generator.\n",
              "    outputElement.lastPromiseValue = value;\n",
              "    return next.value.response;\n",
              "  });\n",
              "}\n",
              "\n",
              "/**\n",
              " * Generator function which is called between each async step of the upload\n",
              " * process.\n",
              " * @param {string} inputId Element ID of the input file picker element.\n",
              " * @param {string} outputId Element ID of the output display.\n",
              " * @return {!Iterable<!Object>} Iterable of next steps.\n",
              " */\n",
              "function* uploadFilesStep(inputId, outputId) {\n",
              "  const inputElement = document.getElementById(inputId);\n",
              "  inputElement.disabled = false;\n",
              "\n",
              "  const outputElement = document.getElementById(outputId);\n",
              "  outputElement.innerHTML = '';\n",
              "\n",
              "  const pickedPromise = new Promise((resolve) => {\n",
              "    inputElement.addEventListener('change', (e) => {\n",
              "      resolve(e.target.files);\n",
              "    });\n",
              "  });\n",
              "\n",
              "  const cancel = document.createElement('button');\n",
              "  inputElement.parentElement.appendChild(cancel);\n",
              "  cancel.textContent = 'Cancel upload';\n",
              "  const cancelPromise = new Promise((resolve) => {\n",
              "    cancel.onclick = () => {\n",
              "      resolve(null);\n",
              "    };\n",
              "  });\n",
              "\n",
              "  // Wait for the user to pick the files.\n",
              "  const files = yield {\n",
              "    promise: Promise.race([pickedPromise, cancelPromise]),\n",
              "    response: {\n",
              "      action: 'starting',\n",
              "    }\n",
              "  };\n",
              "\n",
              "  cancel.remove();\n",
              "\n",
              "  // Disable the input element since further picks are not allowed.\n",
              "  inputElement.disabled = true;\n",
              "\n",
              "  if (!files) {\n",
              "    return {\n",
              "      response: {\n",
              "        action: 'complete',\n",
              "      }\n",
              "    };\n",
              "  }\n",
              "\n",
              "  for (const file of files) {\n",
              "    const li = document.createElement('li');\n",
              "    li.append(span(file.name, {fontWeight: 'bold'}));\n",
              "    li.append(span(\n",
              "        `(${file.type || 'n/a'}) - ${file.size} bytes, ` +\n",
              "        `last modified: ${\n",
              "            file.lastModifiedDate ? file.lastModifiedDate.toLocaleDateString() :\n",
              "                                    'n/a'} - `));\n",
              "    const percent = span('0% done');\n",
              "    li.appendChild(percent);\n",
              "\n",
              "    outputElement.appendChild(li);\n",
              "\n",
              "    const fileDataPromise = new Promise((resolve) => {\n",
              "      const reader = new FileReader();\n",
              "      reader.onload = (e) => {\n",
              "        resolve(e.target.result);\n",
              "      };\n",
              "      reader.readAsArrayBuffer(file);\n",
              "    });\n",
              "    // Wait for the data to be ready.\n",
              "    let fileData = yield {\n",
              "      promise: fileDataPromise,\n",
              "      response: {\n",
              "        action: 'continue',\n",
              "      }\n",
              "    };\n",
              "\n",
              "    // Use a chunked sending to avoid message size limits. See b/62115660.\n",
              "    let position = 0;\n",
              "    do {\n",
              "      const length = Math.min(fileData.byteLength - position, MAX_PAYLOAD_SIZE);\n",
              "      const chunk = new Uint8Array(fileData, position, length);\n",
              "      position += length;\n",
              "\n",
              "      const base64 = btoa(String.fromCharCode.apply(null, chunk));\n",
              "      yield {\n",
              "        response: {\n",
              "          action: 'append',\n",
              "          file: file.name,\n",
              "          data: base64,\n",
              "        },\n",
              "      };\n",
              "\n",
              "      let percentDone = fileData.byteLength === 0 ?\n",
              "          100 :\n",
              "          Math.round((position / fileData.byteLength) * 100);\n",
              "      percent.textContent = `${percentDone}% done`;\n",
              "\n",
              "    } while (position < fileData.byteLength);\n",
              "  }\n",
              "\n",
              "  // All done.\n",
              "  yield {\n",
              "    response: {\n",
              "      action: 'complete',\n",
              "    }\n",
              "  };\n",
              "}\n",
              "\n",
              "scope.google = scope.google || {};\n",
              "scope.google.colab = scope.google.colab || {};\n",
              "scope.google.colab._files = {\n",
              "  _uploadFiles,\n",
              "  _uploadFilesContinue,\n",
              "};\n",
              "})(self);\n",
              "</script> "
            ]
          },
          "metadata": {}
        },
        {
          "output_type": "stream",
          "name": "stdout",
          "text": [
            "Saving kaggle.json to kaggle.json\n"
          ]
        },
        {
          "output_type": "execute_result",
          "data": {
            "text/plain": [
              "{'kaggle.json': b'{\"username\":\"abhinavsui999\",\"key\":\"fbfebf5ddeefd598512d73947a199d46\"}'}"
            ]
          },
          "metadata": {},
          "execution_count": 1
        }
      ]
    },
    {
      "cell_type": "code",
      "source": [
        "import kagglehub\n",
        "\n",
        "# Download latest version\n",
        "path = kagglehub.dataset_download(\"sayuksh/denoising-audio-collection\")\n",
        "\n",
        "print(\"Path to dataset files:\", path)"
      ],
      "metadata": {
        "colab": {
          "base_uri": "https://localhost:8080/"
        },
        "id": "D7n313bZSmpP",
        "outputId": "47a24f64-2998-4f35-9d05-a925f6ba038d"
      },
      "execution_count": 5,
      "outputs": [
        {
          "output_type": "stream",
          "name": "stdout",
          "text": [
            "Downloading from https://www.kaggle.com/api/v1/datasets/download/sayuksh/denoising-audio-collection?dataset_version_number=1...\n"
          ]
        },
        {
          "output_type": "stream",
          "name": "stderr",
          "text": [
            "100%|██████████| 15.3G/15.3G [12:05<00:00, 22.6MB/s]"
          ]
        },
        {
          "output_type": "stream",
          "name": "stdout",
          "text": [
            "Extracting files...\n"
          ]
        },
        {
          "output_type": "stream",
          "name": "stderr",
          "text": [
            "\n"
          ]
        },
        {
          "output_type": "stream",
          "name": "stdout",
          "text": [
            "Path to dataset files: /root/.cache/kagglehub/datasets/sayuksh/denoising-audio-collection/versions/1\n"
          ]
        }
      ]
    },
    {
      "cell_type": "code",
      "source": [
        "print(\"Path to dataset files:\", path)\n"
      ],
      "metadata": {
        "colab": {
          "base_uri": "https://localhost:8080/"
        },
        "id": "KnENIof-WfNp",
        "outputId": "2912068f-de35-406d-89b0-fd81c9c4ab7e"
      },
      "execution_count": 6,
      "outputs": [
        {
          "output_type": "stream",
          "name": "stdout",
          "text": [
            "Path to dataset files: /root/.cache/kagglehub/datasets/sayuksh/denoising-audio-collection/versions/1\n"
          ]
        }
      ]
    },
    {
      "cell_type": "code",
      "source": [
        "data_path = \"/root/.cache/kagglehub/datasets/sayuksh/denoising-audio-collection/versions/1\"\n",
        "clean_dir = os.path.join(data_path, \"Clean Audio\")\n",
        "noisy_dir = os.path.join(data_path, \"Noisy Audio\")\n"
      ],
      "metadata": {
        "id": "YoW7hva0XDcy"
      },
      "execution_count": 8,
      "outputs": []
    },
    {
      "cell_type": "code",
      "source": [
        "!pip install librosa soundfile\n"
      ],
      "metadata": {
        "collapsed": true,
        "colab": {
          "base_uri": "https://localhost:8080/"
        },
        "id": "Z8QEt94UXM-A",
        "outputId": "9aabbacf-fb65-460c-d178-bda8d15ddbdd"
      },
      "execution_count": 9,
      "outputs": [
        {
          "output_type": "stream",
          "name": "stdout",
          "text": [
            "Requirement already satisfied: librosa in /usr/local/lib/python3.11/dist-packages (0.11.0)\n",
            "Requirement already satisfied: soundfile in /usr/local/lib/python3.11/dist-packages (0.13.1)\n",
            "Requirement already satisfied: audioread>=2.1.9 in /usr/local/lib/python3.11/dist-packages (from librosa) (3.0.1)\n",
            "Requirement already satisfied: numba>=0.51.0 in /usr/local/lib/python3.11/dist-packages (from librosa) (0.60.0)\n",
            "Requirement already satisfied: numpy>=1.22.3 in /usr/local/lib/python3.11/dist-packages (from librosa) (2.0.2)\n",
            "Requirement already satisfied: scipy>=1.6.0 in /usr/local/lib/python3.11/dist-packages (from librosa) (1.14.1)\n",
            "Requirement already satisfied: scikit-learn>=1.1.0 in /usr/local/lib/python3.11/dist-packages (from librosa) (1.6.1)\n",
            "Requirement already satisfied: joblib>=1.0 in /usr/local/lib/python3.11/dist-packages (from librosa) (1.4.2)\n",
            "Requirement already satisfied: decorator>=4.3.0 in /usr/local/lib/python3.11/dist-packages (from librosa) (4.4.2)\n",
            "Requirement already satisfied: pooch>=1.1 in /usr/local/lib/python3.11/dist-packages (from librosa) (1.8.2)\n",
            "Requirement already satisfied: soxr>=0.3.2 in /usr/local/lib/python3.11/dist-packages (from librosa) (0.5.0.post1)\n",
            "Requirement already satisfied: typing_extensions>=4.1.1 in /usr/local/lib/python3.11/dist-packages (from librosa) (4.13.1)\n",
            "Requirement already satisfied: lazy_loader>=0.1 in /usr/local/lib/python3.11/dist-packages (from librosa) (0.4)\n",
            "Requirement already satisfied: msgpack>=1.0 in /usr/local/lib/python3.11/dist-packages (from librosa) (1.1.0)\n",
            "Requirement already satisfied: cffi>=1.0 in /usr/local/lib/python3.11/dist-packages (from soundfile) (1.17.1)\n",
            "Requirement already satisfied: pycparser in /usr/local/lib/python3.11/dist-packages (from cffi>=1.0->soundfile) (2.22)\n",
            "Requirement already satisfied: packaging in /usr/local/lib/python3.11/dist-packages (from lazy_loader>=0.1->librosa) (24.2)\n",
            "Requirement already satisfied: llvmlite<0.44,>=0.43.0dev0 in /usr/local/lib/python3.11/dist-packages (from numba>=0.51.0->librosa) (0.43.0)\n",
            "Requirement already satisfied: platformdirs>=2.5.0 in /usr/local/lib/python3.11/dist-packages (from pooch>=1.1->librosa) (4.3.7)\n",
            "Requirement already satisfied: requests>=2.19.0 in /usr/local/lib/python3.11/dist-packages (from pooch>=1.1->librosa) (2.32.3)\n",
            "Requirement already satisfied: threadpoolctl>=3.1.0 in /usr/local/lib/python3.11/dist-packages (from scikit-learn>=1.1.0->librosa) (3.6.0)\n",
            "Requirement already satisfied: charset-normalizer<4,>=2 in /usr/local/lib/python3.11/dist-packages (from requests>=2.19.0->pooch>=1.1->librosa) (3.4.1)\n",
            "Requirement already satisfied: idna<4,>=2.5 in /usr/local/lib/python3.11/dist-packages (from requests>=2.19.0->pooch>=1.1->librosa) (3.10)\n",
            "Requirement already satisfied: urllib3<3,>=1.21.1 in /usr/local/lib/python3.11/dist-packages (from requests>=2.19.0->pooch>=1.1->librosa) (2.3.0)\n",
            "Requirement already satisfied: certifi>=2017.4.17 in /usr/local/lib/python3.11/dist-packages (from requests>=2.19.0->pooch>=1.1->librosa) (2025.1.31)\n"
          ]
        }
      ]
    },
    {
      "cell_type": "code",
      "source": [
        "import os\n",
        "import librosa\n",
        "import numpy as np\n",
        "import soundfile as sf\n",
        "from IPython.display import Audio\n"
      ],
      "metadata": {
        "id": "d8_nbnKNXSLA"
      },
      "execution_count": 17,
      "outputs": []
    },
    {
      "cell_type": "code",
      "source": [
        "sample_rate = 16000\n",
        "duration = 2  # seconds\n",
        "fixed_length = sample_rate * duration\n",
        "\n",
        "def load_audio(filepath, sr=16000):\n",
        "    y, _ = librosa.load(filepath, sr=sr)\n",
        "    if len(y) > fixed_length:\n",
        "        y = y[:fixed_length]\n",
        "    else:\n",
        "        y = np.pad(y, (0, fixed_length - len(y)))\n",
        "    return y\n"
      ],
      "metadata": {
        "id": "iWgrKCttXZiV"
      },
      "execution_count": 18,
      "outputs": []
    },
    {
      "cell_type": "code",
      "source": [
        "clean_files = sorted(os.listdir(clean_dir))\n",
        "noisy_files = sorted(os.listdir(noisy_dir))\n",
        "\n",
        "X_noisy = []\n",
        "Y_clean = []\n",
        "\n",
        "for cfile, nfile in zip(clean_files, noisy_files):\n",
        "    clean = load_audio(os.path.join(clean_dir, cfile))\n",
        "    noisy = load_audio(os.path.join(noisy_dir, nfile))\n",
        "    Y_clean.append(clean)\n",
        "    X_noisy.append(noisy)\n",
        "\n",
        "X_noisy = np.array(X_noisy)[..., np.newaxis]  # shape: (samples, time, 1)\n",
        "Y_clean = np.array(Y_clean)[..., np.newaxis]  # shape: (samples, time, 1)\n",
        "\n",
        "print(\"Noisy shape:\", X_noisy.shape)\n",
        "print(\"Clean shape:\", Y_clean.shape)\n"
      ],
      "metadata": {
        "colab": {
          "base_uri": "https://localhost:8080/",
          "height": 218
        },
        "id": "7sg2m-eHXf4O",
        "outputId": "68583be3-d9e0-4228-d4aa-33c234093dcf"
      },
      "execution_count": 19,
      "outputs": [
        {
          "output_type": "error",
          "ename": "FileNotFoundError",
          "evalue": "[Errno 2] No such file or directory: '/root/.cache/kagglehub/datasets/sayuksh/denoising-audio-collection/versions/1/Clean Audio'",
          "traceback": [
            "\u001b[0;31m---------------------------------------------------------------------------\u001b[0m",
            "\u001b[0;31mFileNotFoundError\u001b[0m                         Traceback (most recent call last)",
            "\u001b[0;32m<ipython-input-19-8395b99c4cfb>\u001b[0m in \u001b[0;36m<cell line: 0>\u001b[0;34m()\u001b[0m\n\u001b[0;32m----> 1\u001b[0;31m \u001b[0mclean_files\u001b[0m \u001b[0;34m=\u001b[0m \u001b[0msorted\u001b[0m\u001b[0;34m(\u001b[0m\u001b[0mos\u001b[0m\u001b[0;34m.\u001b[0m\u001b[0mlistdir\u001b[0m\u001b[0;34m(\u001b[0m\u001b[0mclean_dir\u001b[0m\u001b[0;34m)\u001b[0m\u001b[0;34m)\u001b[0m\u001b[0;34m\u001b[0m\u001b[0;34m\u001b[0m\u001b[0m\n\u001b[0m\u001b[1;32m      2\u001b[0m \u001b[0mnoisy_files\u001b[0m \u001b[0;34m=\u001b[0m \u001b[0msorted\u001b[0m\u001b[0;34m(\u001b[0m\u001b[0mos\u001b[0m\u001b[0;34m.\u001b[0m\u001b[0mlistdir\u001b[0m\u001b[0;34m(\u001b[0m\u001b[0mnoisy_dir\u001b[0m\u001b[0;34m)\u001b[0m\u001b[0;34m)\u001b[0m\u001b[0;34m\u001b[0m\u001b[0;34m\u001b[0m\u001b[0m\n\u001b[1;32m      3\u001b[0m \u001b[0;34m\u001b[0m\u001b[0m\n\u001b[1;32m      4\u001b[0m \u001b[0mX_noisy\u001b[0m \u001b[0;34m=\u001b[0m \u001b[0;34m[\u001b[0m\u001b[0;34m]\u001b[0m\u001b[0;34m\u001b[0m\u001b[0;34m\u001b[0m\u001b[0m\n\u001b[1;32m      5\u001b[0m \u001b[0mY_clean\u001b[0m \u001b[0;34m=\u001b[0m \u001b[0;34m[\u001b[0m\u001b[0;34m]\u001b[0m\u001b[0;34m\u001b[0m\u001b[0;34m\u001b[0m\u001b[0m\n",
            "\u001b[0;31mFileNotFoundError\u001b[0m: [Errno 2] No such file or directory: '/root/.cache/kagglehub/datasets/sayuksh/denoising-audio-collection/versions/1/Clean Audio'"
          ]
        }
      ]
    },
    {
      "cell_type": "code",
      "source": [
        "import os\n",
        "\n",
        "data_path = \"/root/.cache/kagglehub/datasets/sayuksh/denoising-audio-collection/versions/1\"\n",
        "print(os.listdir(data_path))\n"
      ],
      "metadata": {
        "colab": {
          "base_uri": "https://localhost:8080/"
        },
        "id": "dlUEi3_FX12D",
        "outputId": "f17fe9fa-df3d-4a60-9fa1-4d0e690f9e36"
      },
      "execution_count": 20,
      "outputs": [
        {
          "output_type": "stream",
          "name": "stdout",
          "text": [
            "['logfiles', 'noisy_testset_wav', 'trainset_56spk_txt', 'clean_testset_wav', 'clean_trainset_28spk_wav', 'license_text', 'noisy_trainset_56spk_wav', 'trainset_28spk_txt', 'testset_txt', 'noisy_trainset_28spk_wav', 'clean_trainset_56spk_wav']\n"
          ]
        }
      ]
    },
    {
      "cell_type": "code",
      "source": [
        "clean_dir = os.path.join(data_path, \"clean_trainset_28spk_wav\")\n",
        "noisy_dir = os.path.join(data_path, \"noisy_trainset_28spk_wav\")\n"
      ],
      "metadata": {
        "id": "AXKE_tL8YELL"
      },
      "execution_count": 22,
      "outputs": []
    },
    {
      "cell_type": "code",
      "source": [
        "clean_test_dir = os.path.join(data_path, \"clean_testset_wav\")\n",
        "noisy_test_dir = os.path.join(data_path, \"noisy_testset_wav\")\n"
      ],
      "metadata": {
        "id": "-cwn-VnWYFez"
      },
      "execution_count": 23,
      "outputs": []
    },
    {
      "cell_type": "code",
      "source": [
        "import shutil\n",
        "\n",
        "shutil.copytree(\n",
        "    \"/root/.cache/kagglehub/datasets/sayuksh/denoising-audio-collection/versions/1\",\n",
        "    \"/content/denoising_audio\"\n",
        ")\n"
      ],
      "metadata": {
        "colab": {
          "base_uri": "https://localhost:8080/",
          "height": 36
        },
        "id": "6H7WFdycY-uN",
        "outputId": "af5099bd-35fd-495e-c6f3-2c56329780f3"
      },
      "execution_count": 25,
      "outputs": [
        {
          "output_type": "execute_result",
          "data": {
            "text/plain": [
              "'/content/denoising_audio'"
            ],
            "application/vnd.google.colaboratory.intrinsic+json": {
              "type": "string"
            }
          },
          "metadata": {},
          "execution_count": 25
        }
      ]
    },
    {
      "cell_type": "code",
      "source": [
        "import os\n",
        "\n",
        "data_path = \"/content/denoising_audio\"\n",
        "clean_dir = os.path.join(data_path, \"clean_trainset_28spk_wav\")\n",
        "noisy_dir = os.path.join(data_path, \"noisy_trainset_28spk_wav\")\n"
      ],
      "metadata": {
        "id": "CLSfQYlHaKgV"
      },
      "execution_count": 27,
      "outputs": []
    },
    {
      "cell_type": "code",
      "source": [
        "import librosa\n",
        "import numpy as np\n",
        "\n",
        "def load_audio(file_path, sr=16000, duration=2.0):\n",
        "    audio, _ = librosa.load(file_path, sr=sr, duration=duration)\n",
        "    audio = librosa.util.fix_length(audio, size=int(sr * duration))\n",
        "    return audio\n"
      ],
      "metadata": {
        "id": "hSwsqtYLaauN"
      },
      "execution_count": 28,
      "outputs": []
    },
    {
      "cell_type": "code",
      "source": [
        "clean_files = sorted(os.listdir(clean_dir))\n",
        "noisy_files = sorted(os.listdir(noisy_dir))\n",
        "\n",
        "X_noisy = []\n",
        "Y_clean = []\n",
        "\n",
        "for cfile, nfile in zip(clean_files, noisy_files):\n",
        "    clean = load_audio(os.path.join(clean_dir, cfile))\n",
        "    noisy = load_audio(os.path.join(noisy_dir, nfile))\n",
        "    Y_clean.append(clean)\n",
        "    X_noisy.append(noisy)\n",
        "\n",
        "X_noisy = np.array(X_noisy)[..., np.newaxis]\n",
        "Y_clean = np.array(Y_clean)[..., np.newaxis]\n",
        "\n",
        "print(\"Noisy shape:\", X_noisy.shape)\n",
        "print(\"Clean shape:\", Y_clean.shape)\n"
      ],
      "metadata": {
        "colab": {
          "base_uri": "https://localhost:8080/",
          "height": 495
        },
        "id": "7KR435CGafE5",
        "outputId": "f1fdc288-f791-4919-e176-e6b8288deff8"
      },
      "execution_count": 29,
      "outputs": [
        {
          "output_type": "stream",
          "name": "stderr",
          "text": [
            "<ipython-input-28-f837eb380e51>:5: UserWarning: PySoundFile failed. Trying audioread instead.\n",
            "  audio, _ = librosa.load(file_path, sr=sr, duration=duration)\n"
          ]
        },
        {
          "output_type": "error",
          "ename": "IsADirectoryError",
          "evalue": "[Errno 21] Is a directory: '/content/denoising_audio/clean_trainset_28spk_wav/clean_trainset_28spk_wav'",
          "traceback": [
            "\u001b[0;31m---------------------------------------------------------------------------\u001b[0m",
            "\u001b[0;31mLibsndfileError\u001b[0m                           Traceback (most recent call last)",
            "\u001b[0;32m/usr/local/lib/python3.11/dist-packages/librosa/core/audio.py\u001b[0m in \u001b[0;36mload\u001b[0;34m(path, sr, mono, offset, duration, dtype, res_type)\u001b[0m\n\u001b[1;32m    175\u001b[0m         \u001b[0;32mtry\u001b[0m\u001b[0;34m:\u001b[0m\u001b[0;34m\u001b[0m\u001b[0;34m\u001b[0m\u001b[0m\n\u001b[0;32m--> 176\u001b[0;31m             \u001b[0my\u001b[0m\u001b[0;34m,\u001b[0m \u001b[0msr_native\u001b[0m \u001b[0;34m=\u001b[0m \u001b[0m__soundfile_load\u001b[0m\u001b[0;34m(\u001b[0m\u001b[0mpath\u001b[0m\u001b[0;34m,\u001b[0m \u001b[0moffset\u001b[0m\u001b[0;34m,\u001b[0m \u001b[0mduration\u001b[0m\u001b[0;34m,\u001b[0m \u001b[0mdtype\u001b[0m\u001b[0;34m)\u001b[0m\u001b[0;34m\u001b[0m\u001b[0;34m\u001b[0m\u001b[0m\n\u001b[0m\u001b[1;32m    177\u001b[0m \u001b[0;34m\u001b[0m\u001b[0m\n",
            "\u001b[0;32m/usr/local/lib/python3.11/dist-packages/librosa/core/audio.py\u001b[0m in \u001b[0;36m__soundfile_load\u001b[0;34m(path, offset, duration, dtype)\u001b[0m\n\u001b[1;32m    208\u001b[0m         \u001b[0;31m# Otherwise, create the soundfile object\u001b[0m\u001b[0;34m\u001b[0m\u001b[0;34m\u001b[0m\u001b[0m\n\u001b[0;32m--> 209\u001b[0;31m         \u001b[0mcontext\u001b[0m \u001b[0;34m=\u001b[0m \u001b[0msf\u001b[0m\u001b[0;34m.\u001b[0m\u001b[0mSoundFile\u001b[0m\u001b[0;34m(\u001b[0m\u001b[0mpath\u001b[0m\u001b[0;34m)\u001b[0m\u001b[0;34m\u001b[0m\u001b[0;34m\u001b[0m\u001b[0m\n\u001b[0m\u001b[1;32m    210\u001b[0m \u001b[0;34m\u001b[0m\u001b[0m\n",
            "\u001b[0;32m/usr/local/lib/python3.11/dist-packages/soundfile.py\u001b[0m in \u001b[0;36m__init__\u001b[0;34m(self, file, mode, samplerate, channels, subtype, endian, format, closefd, compression_level, bitrate_mode)\u001b[0m\n\u001b[1;32m    689\u001b[0m                                          format, subtype, endian)\n\u001b[0;32m--> 690\u001b[0;31m         \u001b[0mself\u001b[0m\u001b[0;34m.\u001b[0m\u001b[0m_file\u001b[0m \u001b[0;34m=\u001b[0m \u001b[0mself\u001b[0m\u001b[0;34m.\u001b[0m\u001b[0m_open\u001b[0m\u001b[0;34m(\u001b[0m\u001b[0mfile\u001b[0m\u001b[0;34m,\u001b[0m \u001b[0mmode_int\u001b[0m\u001b[0;34m,\u001b[0m \u001b[0mclosefd\u001b[0m\u001b[0;34m)\u001b[0m\u001b[0;34m\u001b[0m\u001b[0;34m\u001b[0m\u001b[0m\n\u001b[0m\u001b[1;32m    691\u001b[0m         \u001b[0;32mif\u001b[0m \u001b[0mset\u001b[0m\u001b[0;34m(\u001b[0m\u001b[0mmode\u001b[0m\u001b[0;34m)\u001b[0m\u001b[0;34m.\u001b[0m\u001b[0missuperset\u001b[0m\u001b[0;34m(\u001b[0m\u001b[0;34m'r+'\u001b[0m\u001b[0;34m)\u001b[0m \u001b[0;32mand\u001b[0m \u001b[0mself\u001b[0m\u001b[0;34m.\u001b[0m\u001b[0mseekable\u001b[0m\u001b[0;34m(\u001b[0m\u001b[0;34m)\u001b[0m\u001b[0;34m:\u001b[0m\u001b[0;34m\u001b[0m\u001b[0;34m\u001b[0m\u001b[0m\n",
            "\u001b[0;32m/usr/local/lib/python3.11/dist-packages/soundfile.py\u001b[0m in \u001b[0;36m_open\u001b[0;34m(self, file, mode_int, closefd)\u001b[0m\n\u001b[1;32m   1264\u001b[0m             \u001b[0merr\u001b[0m \u001b[0;34m=\u001b[0m \u001b[0m_snd\u001b[0m\u001b[0;34m.\u001b[0m\u001b[0msf_error\u001b[0m\u001b[0;34m(\u001b[0m\u001b[0mfile_ptr\u001b[0m\u001b[0;34m)\u001b[0m\u001b[0;34m\u001b[0m\u001b[0;34m\u001b[0m\u001b[0m\n\u001b[0;32m-> 1265\u001b[0;31m             \u001b[0;32mraise\u001b[0m \u001b[0mLibsndfileError\u001b[0m\u001b[0;34m(\u001b[0m\u001b[0merr\u001b[0m\u001b[0;34m,\u001b[0m \u001b[0mprefix\u001b[0m\u001b[0;34m=\u001b[0m\u001b[0;34m\"Error opening {0!r}: \"\u001b[0m\u001b[0;34m.\u001b[0m\u001b[0mformat\u001b[0m\u001b[0;34m(\u001b[0m\u001b[0mself\u001b[0m\u001b[0;34m.\u001b[0m\u001b[0mname\u001b[0m\u001b[0;34m)\u001b[0m\u001b[0;34m)\u001b[0m\u001b[0;34m\u001b[0m\u001b[0;34m\u001b[0m\u001b[0m\n\u001b[0m\u001b[1;32m   1266\u001b[0m         \u001b[0;32mif\u001b[0m \u001b[0mmode_int\u001b[0m \u001b[0;34m==\u001b[0m \u001b[0m_snd\u001b[0m\u001b[0;34m.\u001b[0m\u001b[0mSFM_WRITE\u001b[0m\u001b[0;34m:\u001b[0m\u001b[0;34m\u001b[0m\u001b[0;34m\u001b[0m\u001b[0m\n",
            "\u001b[0;31mLibsndfileError\u001b[0m: Error opening '/content/denoising_audio/clean_trainset_28spk_wav/clean_trainset_28spk_wav': Format not recognised.",
            "\nDuring handling of the above exception, another exception occurred:\n",
            "\u001b[0;31mIsADirectoryError\u001b[0m                         Traceback (most recent call last)",
            "\u001b[0;32m<ipython-input-29-7432eef81ca8>\u001b[0m in \u001b[0;36m<cell line: 0>\u001b[0;34m()\u001b[0m\n\u001b[1;32m      6\u001b[0m \u001b[0;34m\u001b[0m\u001b[0m\n\u001b[1;32m      7\u001b[0m \u001b[0;32mfor\u001b[0m \u001b[0mcfile\u001b[0m\u001b[0;34m,\u001b[0m \u001b[0mnfile\u001b[0m \u001b[0;32min\u001b[0m \u001b[0mzip\u001b[0m\u001b[0;34m(\u001b[0m\u001b[0mclean_files\u001b[0m\u001b[0;34m,\u001b[0m \u001b[0mnoisy_files\u001b[0m\u001b[0;34m)\u001b[0m\u001b[0;34m:\u001b[0m\u001b[0;34m\u001b[0m\u001b[0;34m\u001b[0m\u001b[0m\n\u001b[0;32m----> 8\u001b[0;31m     \u001b[0mclean\u001b[0m \u001b[0;34m=\u001b[0m \u001b[0mload_audio\u001b[0m\u001b[0;34m(\u001b[0m\u001b[0mos\u001b[0m\u001b[0;34m.\u001b[0m\u001b[0mpath\u001b[0m\u001b[0;34m.\u001b[0m\u001b[0mjoin\u001b[0m\u001b[0;34m(\u001b[0m\u001b[0mclean_dir\u001b[0m\u001b[0;34m,\u001b[0m \u001b[0mcfile\u001b[0m\u001b[0;34m)\u001b[0m\u001b[0;34m)\u001b[0m\u001b[0;34m\u001b[0m\u001b[0;34m\u001b[0m\u001b[0m\n\u001b[0m\u001b[1;32m      9\u001b[0m     \u001b[0mnoisy\u001b[0m \u001b[0;34m=\u001b[0m \u001b[0mload_audio\u001b[0m\u001b[0;34m(\u001b[0m\u001b[0mos\u001b[0m\u001b[0;34m.\u001b[0m\u001b[0mpath\u001b[0m\u001b[0;34m.\u001b[0m\u001b[0mjoin\u001b[0m\u001b[0;34m(\u001b[0m\u001b[0mnoisy_dir\u001b[0m\u001b[0;34m,\u001b[0m \u001b[0mnfile\u001b[0m\u001b[0;34m)\u001b[0m\u001b[0;34m)\u001b[0m\u001b[0;34m\u001b[0m\u001b[0;34m\u001b[0m\u001b[0m\n\u001b[1;32m     10\u001b[0m     \u001b[0mY_clean\u001b[0m\u001b[0;34m.\u001b[0m\u001b[0mappend\u001b[0m\u001b[0;34m(\u001b[0m\u001b[0mclean\u001b[0m\u001b[0;34m)\u001b[0m\u001b[0;34m\u001b[0m\u001b[0;34m\u001b[0m\u001b[0m\n",
            "\u001b[0;32m<ipython-input-28-f837eb380e51>\u001b[0m in \u001b[0;36mload_audio\u001b[0;34m(file_path, sr, duration)\u001b[0m\n\u001b[1;32m      3\u001b[0m \u001b[0;34m\u001b[0m\u001b[0m\n\u001b[1;32m      4\u001b[0m \u001b[0;32mdef\u001b[0m \u001b[0mload_audio\u001b[0m\u001b[0;34m(\u001b[0m\u001b[0mfile_path\u001b[0m\u001b[0;34m,\u001b[0m \u001b[0msr\u001b[0m\u001b[0;34m=\u001b[0m\u001b[0;36m16000\u001b[0m\u001b[0;34m,\u001b[0m \u001b[0mduration\u001b[0m\u001b[0;34m=\u001b[0m\u001b[0;36m2.0\u001b[0m\u001b[0;34m)\u001b[0m\u001b[0;34m:\u001b[0m\u001b[0;34m\u001b[0m\u001b[0;34m\u001b[0m\u001b[0m\n\u001b[0;32m----> 5\u001b[0;31m     \u001b[0maudio\u001b[0m\u001b[0;34m,\u001b[0m \u001b[0m_\u001b[0m \u001b[0;34m=\u001b[0m \u001b[0mlibrosa\u001b[0m\u001b[0;34m.\u001b[0m\u001b[0mload\u001b[0m\u001b[0;34m(\u001b[0m\u001b[0mfile_path\u001b[0m\u001b[0;34m,\u001b[0m \u001b[0msr\u001b[0m\u001b[0;34m=\u001b[0m\u001b[0msr\u001b[0m\u001b[0;34m,\u001b[0m \u001b[0mduration\u001b[0m\u001b[0;34m=\u001b[0m\u001b[0mduration\u001b[0m\u001b[0;34m)\u001b[0m\u001b[0;34m\u001b[0m\u001b[0;34m\u001b[0m\u001b[0m\n\u001b[0m\u001b[1;32m      6\u001b[0m     \u001b[0maudio\u001b[0m \u001b[0;34m=\u001b[0m \u001b[0mlibrosa\u001b[0m\u001b[0;34m.\u001b[0m\u001b[0mutil\u001b[0m\u001b[0;34m.\u001b[0m\u001b[0mfix_length\u001b[0m\u001b[0;34m(\u001b[0m\u001b[0maudio\u001b[0m\u001b[0;34m,\u001b[0m \u001b[0msize\u001b[0m\u001b[0;34m=\u001b[0m\u001b[0mint\u001b[0m\u001b[0;34m(\u001b[0m\u001b[0msr\u001b[0m \u001b[0;34m*\u001b[0m \u001b[0mduration\u001b[0m\u001b[0;34m)\u001b[0m\u001b[0;34m)\u001b[0m\u001b[0;34m\u001b[0m\u001b[0;34m\u001b[0m\u001b[0m\n\u001b[1;32m      7\u001b[0m     \u001b[0;32mreturn\u001b[0m \u001b[0maudio\u001b[0m\u001b[0;34m\u001b[0m\u001b[0;34m\u001b[0m\u001b[0m\n",
            "\u001b[0;32m/usr/local/lib/python3.11/dist-packages/librosa/core/audio.py\u001b[0m in \u001b[0;36mload\u001b[0;34m(path, sr, mono, offset, duration, dtype, res_type)\u001b[0m\n\u001b[1;32m    182\u001b[0m                     \u001b[0;34m\"PySoundFile failed. Trying audioread instead.\"\u001b[0m\u001b[0;34m,\u001b[0m \u001b[0mstacklevel\u001b[0m\u001b[0;34m=\u001b[0m\u001b[0;36m2\u001b[0m\u001b[0;34m\u001b[0m\u001b[0;34m\u001b[0m\u001b[0m\n\u001b[1;32m    183\u001b[0m                 )\n\u001b[0;32m--> 184\u001b[0;31m                 \u001b[0my\u001b[0m\u001b[0;34m,\u001b[0m \u001b[0msr_native\u001b[0m \u001b[0;34m=\u001b[0m \u001b[0m__audioread_load\u001b[0m\u001b[0;34m(\u001b[0m\u001b[0mpath\u001b[0m\u001b[0;34m,\u001b[0m \u001b[0moffset\u001b[0m\u001b[0;34m,\u001b[0m \u001b[0mduration\u001b[0m\u001b[0;34m,\u001b[0m \u001b[0mdtype\u001b[0m\u001b[0;34m)\u001b[0m\u001b[0;34m\u001b[0m\u001b[0;34m\u001b[0m\u001b[0m\n\u001b[0m\u001b[1;32m    185\u001b[0m             \u001b[0;32melse\u001b[0m\u001b[0;34m:\u001b[0m\u001b[0;34m\u001b[0m\u001b[0;34m\u001b[0m\u001b[0m\n\u001b[1;32m    186\u001b[0m                 \u001b[0;32mraise\u001b[0m \u001b[0mexc\u001b[0m\u001b[0;34m\u001b[0m\u001b[0;34m\u001b[0m\u001b[0m\n",
            "\u001b[0;32m<decorator-gen-122>\u001b[0m in \u001b[0;36m__audioread_load\u001b[0;34m(path, offset, duration, dtype)\u001b[0m\n",
            "\u001b[0;32m/usr/local/lib/python3.11/dist-packages/librosa/util/decorators.py\u001b[0m in \u001b[0;36m__wrapper\u001b[0;34m(func, *args, **kwargs)\u001b[0m\n\u001b[1;32m     61\u001b[0m             \u001b[0mstacklevel\u001b[0m\u001b[0;34m=\u001b[0m\u001b[0;36m3\u001b[0m\u001b[0;34m,\u001b[0m  \u001b[0;31m# Would be 2, but the decorator adds a level\u001b[0m\u001b[0;34m\u001b[0m\u001b[0;34m\u001b[0m\u001b[0m\n\u001b[1;32m     62\u001b[0m         )\n\u001b[0;32m---> 63\u001b[0;31m         \u001b[0;32mreturn\u001b[0m \u001b[0mfunc\u001b[0m\u001b[0;34m(\u001b[0m\u001b[0;34m*\u001b[0m\u001b[0margs\u001b[0m\u001b[0;34m,\u001b[0m \u001b[0;34m**\u001b[0m\u001b[0mkwargs\u001b[0m\u001b[0;34m)\u001b[0m\u001b[0;34m\u001b[0m\u001b[0;34m\u001b[0m\u001b[0m\n\u001b[0m\u001b[1;32m     64\u001b[0m \u001b[0;34m\u001b[0m\u001b[0m\n\u001b[1;32m     65\u001b[0m     \u001b[0;32mreturn\u001b[0m \u001b[0mdecorator\u001b[0m\u001b[0;34m(\u001b[0m\u001b[0m__wrapper\u001b[0m\u001b[0;34m)\u001b[0m\u001b[0;34m\u001b[0m\u001b[0;34m\u001b[0m\u001b[0m\n",
            "\u001b[0;32m/usr/local/lib/python3.11/dist-packages/librosa/core/audio.py\u001b[0m in \u001b[0;36m__audioread_load\u001b[0;34m(path, offset, duration, dtype)\u001b[0m\n\u001b[1;32m    238\u001b[0m     \u001b[0;32melse\u001b[0m\u001b[0;34m:\u001b[0m\u001b[0;34m\u001b[0m\u001b[0;34m\u001b[0m\u001b[0m\n\u001b[1;32m    239\u001b[0m         \u001b[0;31m# If the input was not an audioread object, try to open it\u001b[0m\u001b[0;34m\u001b[0m\u001b[0;34m\u001b[0m\u001b[0m\n\u001b[0;32m--> 240\u001b[0;31m         \u001b[0mreader\u001b[0m \u001b[0;34m=\u001b[0m \u001b[0maudioread\u001b[0m\u001b[0;34m.\u001b[0m\u001b[0maudio_open\u001b[0m\u001b[0;34m(\u001b[0m\u001b[0mpath\u001b[0m\u001b[0;34m)\u001b[0m\u001b[0;34m\u001b[0m\u001b[0;34m\u001b[0m\u001b[0m\n\u001b[0m\u001b[1;32m    241\u001b[0m \u001b[0;34m\u001b[0m\u001b[0m\n\u001b[1;32m    242\u001b[0m     \u001b[0;32mwith\u001b[0m \u001b[0mreader\u001b[0m \u001b[0;32mas\u001b[0m \u001b[0minput_file\u001b[0m\u001b[0;34m:\u001b[0m\u001b[0;34m\u001b[0m\u001b[0;34m\u001b[0m\u001b[0m\n",
            "\u001b[0;32m/usr/local/lib/python3.11/dist-packages/audioread/__init__.py\u001b[0m in \u001b[0;36maudio_open\u001b[0;34m(path, backends)\u001b[0m\n\u001b[1;32m    125\u001b[0m     \u001b[0;32mfor\u001b[0m \u001b[0mBackendClass\u001b[0m \u001b[0;32min\u001b[0m \u001b[0mbackends\u001b[0m\u001b[0;34m:\u001b[0m\u001b[0;34m\u001b[0m\u001b[0;34m\u001b[0m\u001b[0m\n\u001b[1;32m    126\u001b[0m         \u001b[0;32mtry\u001b[0m\u001b[0;34m:\u001b[0m\u001b[0;34m\u001b[0m\u001b[0;34m\u001b[0m\u001b[0m\n\u001b[0;32m--> 127\u001b[0;31m             \u001b[0;32mreturn\u001b[0m \u001b[0mBackendClass\u001b[0m\u001b[0;34m(\u001b[0m\u001b[0mpath\u001b[0m\u001b[0;34m)\u001b[0m\u001b[0;34m\u001b[0m\u001b[0;34m\u001b[0m\u001b[0m\n\u001b[0m\u001b[1;32m    128\u001b[0m         \u001b[0;32mexcept\u001b[0m \u001b[0mDecodeError\u001b[0m\u001b[0;34m:\u001b[0m\u001b[0;34m\u001b[0m\u001b[0;34m\u001b[0m\u001b[0m\n\u001b[1;32m    129\u001b[0m             \u001b[0;32mpass\u001b[0m\u001b[0;34m\u001b[0m\u001b[0;34m\u001b[0m\u001b[0m\n",
            "\u001b[0;32m/usr/local/lib/python3.11/dist-packages/audioread/rawread.py\u001b[0m in \u001b[0;36m__init__\u001b[0;34m(self, filename)\u001b[0m\n\u001b[1;32m     57\u001b[0m     \"\"\"\n\u001b[1;32m     58\u001b[0m     \u001b[0;32mdef\u001b[0m \u001b[0m__init__\u001b[0m\u001b[0;34m(\u001b[0m\u001b[0mself\u001b[0m\u001b[0;34m,\u001b[0m \u001b[0mfilename\u001b[0m\u001b[0;34m)\u001b[0m\u001b[0;34m:\u001b[0m\u001b[0;34m\u001b[0m\u001b[0;34m\u001b[0m\u001b[0m\n\u001b[0;32m---> 59\u001b[0;31m         \u001b[0mself\u001b[0m\u001b[0;34m.\u001b[0m\u001b[0m_fh\u001b[0m \u001b[0;34m=\u001b[0m \u001b[0mopen\u001b[0m\u001b[0;34m(\u001b[0m\u001b[0mfilename\u001b[0m\u001b[0;34m,\u001b[0m \u001b[0;34m'rb'\u001b[0m\u001b[0;34m)\u001b[0m\u001b[0;34m\u001b[0m\u001b[0;34m\u001b[0m\u001b[0m\n\u001b[0m\u001b[1;32m     60\u001b[0m \u001b[0;34m\u001b[0m\u001b[0m\n\u001b[1;32m     61\u001b[0m         \u001b[0;32mtry\u001b[0m\u001b[0;34m:\u001b[0m\u001b[0;34m\u001b[0m\u001b[0;34m\u001b[0m\u001b[0m\n",
            "\u001b[0;31mIsADirectoryError\u001b[0m: [Errno 21] Is a directory: '/content/denoising_audio/clean_trainset_28spk_wav/clean_trainset_28spk_wav'"
          ]
        }
      ]
    },
    {
      "cell_type": "code",
      "source": [
        "clean_files = sorted([f for f in os.listdir(clean_dir) if f.endswith('.wav')])\n",
        "noisy_files = sorted([f for f in os.listdir(noisy_dir) if f.endswith('.wav')])\n",
        "\n",
        "X_noisy = []\n",
        "Y_clean = []\n",
        "\n",
        "for cfile, nfile in zip(clean_files, noisy_files):\n",
        "    clean_path = os.path.join(clean_dir, cfile)\n",
        "    noisy_path = os.path.join(noisy_dir, nfile)\n",
        "\n",
        "    clean = load_audio(clean_path)\n",
        "    noisy = load_audio(noisy_path)\n",
        "\n",
        "    Y_clean.append(clean)\n",
        "    X_noisy.append(noisy)\n",
        "\n",
        "X_noisy = np.array(X_noisy)[..., np.newaxis]\n",
        "Y_clean = np.array(Y_clean)[..., np.newaxis]\n",
        "\n",
        "print(\"Noisy shape:\", X_noisy.shape)\n",
        "print(\"Clean shape:\", Y_clean.shape)\n"
      ],
      "metadata": {
        "colab": {
          "base_uri": "https://localhost:8080/"
        },
        "id": "v6zR3b45apNP",
        "outputId": "2cd96684-009c-4989-d90f-c5812489137b"
      },
      "execution_count": 30,
      "outputs": [
        {
          "output_type": "stream",
          "name": "stdout",
          "text": [
            "Noisy shape: (0, 1)\n",
            "Clean shape: (0, 1)\n"
          ]
        }
      ]
    },
    {
      "cell_type": "code",
      "source": [
        "import glob\n",
        "\n",
        "clean_dir = \"/content/denoising_audio/clean_trainset_28spk_wav\"\n",
        "noisy_dir = \"/content/denoising_audio/noisy_trainset_28spk_wav\"\n",
        "\n",
        "clean_files = sorted(glob.glob(os.path.join(clean_dir, \"**\", \"*.wav\"), recursive=True))\n",
        "noisy_files = sorted(glob.glob(os.path.join(noisy_dir, \"**\", \"*.wav\"), recursive=True))\n",
        "\n",
        "print(\"Found clean files:\", len(clean_files))\n",
        "print(\"Found noisy files:\", len(noisy_files))\n"
      ],
      "metadata": {
        "colab": {
          "base_uri": "https://localhost:8080/"
        },
        "id": "Oeej7QRSawT5",
        "outputId": "86d33d2c-f53a-45d5-83cd-80180ed0674b"
      },
      "execution_count": 33,
      "outputs": [
        {
          "output_type": "stream",
          "name": "stdout",
          "text": [
            "Found clean files: 11572\n",
            "Found noisy files: 11572\n"
          ]
        }
      ]
    },
    {
      "cell_type": "code",
      "source": [
        "import librosa\n",
        "import numpy as np\n",
        "\n",
        "def load_audio(file_path, sr=16000, duration=1.0):\n",
        "    samples = int(sr * duration)\n",
        "    audio, _ = librosa.load(file_path, sr=sr, duration=duration)\n",
        "    if len(audio) < samples:\n",
        "        audio = np.pad(audio, (0, samples - len(audio)))  # pad if shorter\n",
        "    else:\n",
        "        audio = audio[:samples]\n",
        "    return audio\n",
        "\n",
        "X_noisy = []\n",
        "Y_clean = []\n",
        "\n",
        "for cfile, nfile in zip(clean_files[:100], noisy_files[:100]):  # limit to 100 samples to start\n",
        "    clean = load_audio(cfile)\n",
        "    noisy = load_audio(nfile)\n",
        "    Y_clean.append(clean)\n",
        "    X_noisy.append(noisy)\n",
        "\n",
        "X_noisy = np.array(X_noisy)[..., np.newaxis]\n",
        "Y_clean = np.array(Y_clean)[..., np.newaxis]\n",
        "\n",
        "print(\"Noisy shape:\", X_noisy.shape)\n",
        "print(\"Clean shape:\", Y_clean.shape)\n"
      ],
      "metadata": {
        "colab": {
          "base_uri": "https://localhost:8080/"
        },
        "id": "TZUTD0bMbMVB",
        "outputId": "000a4be6-9f7f-4649-81be-6e2fd86ade1e"
      },
      "execution_count": 34,
      "outputs": [
        {
          "output_type": "stream",
          "name": "stdout",
          "text": [
            "Noisy shape: (100, 16000, 1)\n",
            "Clean shape: (100, 16000, 1)\n"
          ]
        }
      ]
    },
    {
      "cell_type": "code",
      "source": [
        "import tensorflow as tf\n",
        "from tensorflow.keras.models import Model\n",
        "from tensorflow.keras.layers import Input, Conv1D, MaxPooling1D, UpSampling1D\n",
        "\n",
        "input_shape = X_noisy.shape[1:]  # (16000, 1)\n",
        "\n",
        "input_layer = Input(shape=input_shape)\n",
        "\n",
        "# Encoder\n",
        "x = Conv1D(16, 3, activation='relu', padding='same')(input_layer)\n",
        "x = MaxPooling1D(2, padding='same')(x)\n",
        "x = Conv1D(8, 3, activation='relu', padding='same')(x)\n",
        "encoded = MaxPooling1D(2, padding='same')(x)\n",
        "\n",
        "# Decoder\n",
        "x = Conv1D(8, 3, activation='relu', padding='same')(encoded)\n",
        "x = UpSampling1D(2)(x)\n",
        "x = Conv1D(16, 3, activation='relu', padding='same')(x)\n",
        "x = UpSampling1D(2)(x)\n",
        "decoded = Conv1D(1, 3, activation='sigmoid', padding='same')(x)\n",
        "\n",
        "# Model\n",
        "model = Model(input_layer, decoded)\n",
        "model.compile(optimizer='adam', loss='mse')\n",
        "\n",
        "model.summary()\n"
      ],
      "metadata": {
        "colab": {
          "base_uri": "https://localhost:8080/",
          "height": 457
        },
        "id": "PRhoF1xebUgL",
        "outputId": "600d296c-e7f8-4c34-bef7-1de2336e2474"
      },
      "execution_count": 35,
      "outputs": [
        {
          "output_type": "display_data",
          "data": {
            "text/plain": [
              "\u001b[1mModel: \"functional\"\u001b[0m\n"
            ],
            "text/html": [
              "<pre style=\"white-space:pre;overflow-x:auto;line-height:normal;font-family:Menlo,'DejaVu Sans Mono',consolas,'Courier New',monospace\"><span style=\"font-weight: bold\">Model: \"functional\"</span>\n",
              "</pre>\n"
            ]
          },
          "metadata": {}
        },
        {
          "output_type": "display_data",
          "data": {
            "text/plain": [
              "┏━━━━━━━━━━━━━━━━━━━━━━━━━━━━━━━━━┳━━━━━━━━━━━━━━━━━━━━━━━━┳━━━━━━━━━━━━━━━┓\n",
              "┃\u001b[1m \u001b[0m\u001b[1mLayer (type)                   \u001b[0m\u001b[1m \u001b[0m┃\u001b[1m \u001b[0m\u001b[1mOutput Shape          \u001b[0m\u001b[1m \u001b[0m┃\u001b[1m \u001b[0m\u001b[1m      Param #\u001b[0m\u001b[1m \u001b[0m┃\n",
              "┡━━━━━━━━━━━━━━━━━━━━━━━━━━━━━━━━━╇━━━━━━━━━━━━━━━━━━━━━━━━╇━━━━━━━━━━━━━━━┩\n",
              "│ input_layer_1 (\u001b[38;5;33mInputLayer\u001b[0m)      │ (\u001b[38;5;45mNone\u001b[0m, \u001b[38;5;34m16000\u001b[0m, \u001b[38;5;34m1\u001b[0m)       │             \u001b[38;5;34m0\u001b[0m │\n",
              "├─────────────────────────────────┼────────────────────────┼───────────────┤\n",
              "│ conv1d_1 (\u001b[38;5;33mConv1D\u001b[0m)               │ (\u001b[38;5;45mNone\u001b[0m, \u001b[38;5;34m16000\u001b[0m, \u001b[38;5;34m16\u001b[0m)      │            \u001b[38;5;34m64\u001b[0m │\n",
              "├─────────────────────────────────┼────────────────────────┼───────────────┤\n",
              "│ max_pooling1d (\u001b[38;5;33mMaxPooling1D\u001b[0m)    │ (\u001b[38;5;45mNone\u001b[0m, \u001b[38;5;34m8000\u001b[0m, \u001b[38;5;34m16\u001b[0m)       │             \u001b[38;5;34m0\u001b[0m │\n",
              "├─────────────────────────────────┼────────────────────────┼───────────────┤\n",
              "│ conv1d_2 (\u001b[38;5;33mConv1D\u001b[0m)               │ (\u001b[38;5;45mNone\u001b[0m, \u001b[38;5;34m8000\u001b[0m, \u001b[38;5;34m8\u001b[0m)        │           \u001b[38;5;34m392\u001b[0m │\n",
              "├─────────────────────────────────┼────────────────────────┼───────────────┤\n",
              "│ max_pooling1d_1 (\u001b[38;5;33mMaxPooling1D\u001b[0m)  │ (\u001b[38;5;45mNone\u001b[0m, \u001b[38;5;34m4000\u001b[0m, \u001b[38;5;34m8\u001b[0m)        │             \u001b[38;5;34m0\u001b[0m │\n",
              "├─────────────────────────────────┼────────────────────────┼───────────────┤\n",
              "│ conv1d_3 (\u001b[38;5;33mConv1D\u001b[0m)               │ (\u001b[38;5;45mNone\u001b[0m, \u001b[38;5;34m4000\u001b[0m, \u001b[38;5;34m8\u001b[0m)        │           \u001b[38;5;34m200\u001b[0m │\n",
              "├─────────────────────────────────┼────────────────────────┼───────────────┤\n",
              "│ up_sampling1d (\u001b[38;5;33mUpSampling1D\u001b[0m)    │ (\u001b[38;5;45mNone\u001b[0m, \u001b[38;5;34m8000\u001b[0m, \u001b[38;5;34m8\u001b[0m)        │             \u001b[38;5;34m0\u001b[0m │\n",
              "├─────────────────────────────────┼────────────────────────┼───────────────┤\n",
              "│ conv1d_4 (\u001b[38;5;33mConv1D\u001b[0m)               │ (\u001b[38;5;45mNone\u001b[0m, \u001b[38;5;34m8000\u001b[0m, \u001b[38;5;34m16\u001b[0m)       │           \u001b[38;5;34m400\u001b[0m │\n",
              "├─────────────────────────────────┼────────────────────────┼───────────────┤\n",
              "│ up_sampling1d_1 (\u001b[38;5;33mUpSampling1D\u001b[0m)  │ (\u001b[38;5;45mNone\u001b[0m, \u001b[38;5;34m16000\u001b[0m, \u001b[38;5;34m16\u001b[0m)      │             \u001b[38;5;34m0\u001b[0m │\n",
              "├─────────────────────────────────┼────────────────────────┼───────────────┤\n",
              "│ conv1d_5 (\u001b[38;5;33mConv1D\u001b[0m)               │ (\u001b[38;5;45mNone\u001b[0m, \u001b[38;5;34m16000\u001b[0m, \u001b[38;5;34m1\u001b[0m)       │            \u001b[38;5;34m49\u001b[0m │\n",
              "└─────────────────────────────────┴────────────────────────┴───────────────┘\n"
            ],
            "text/html": [
              "<pre style=\"white-space:pre;overflow-x:auto;line-height:normal;font-family:Menlo,'DejaVu Sans Mono',consolas,'Courier New',monospace\">┏━━━━━━━━━━━━━━━━━━━━━━━━━━━━━━━━━┳━━━━━━━━━━━━━━━━━━━━━━━━┳━━━━━━━━━━━━━━━┓\n",
              "┃<span style=\"font-weight: bold\"> Layer (type)                    </span>┃<span style=\"font-weight: bold\"> Output Shape           </span>┃<span style=\"font-weight: bold\">       Param # </span>┃\n",
              "┡━━━━━━━━━━━━━━━━━━━━━━━━━━━━━━━━━╇━━━━━━━━━━━━━━━━━━━━━━━━╇━━━━━━━━━━━━━━━┩\n",
              "│ input_layer_1 (<span style=\"color: #0087ff; text-decoration-color: #0087ff\">InputLayer</span>)      │ (<span style=\"color: #00d7ff; text-decoration-color: #00d7ff\">None</span>, <span style=\"color: #00af00; text-decoration-color: #00af00\">16000</span>, <span style=\"color: #00af00; text-decoration-color: #00af00\">1</span>)       │             <span style=\"color: #00af00; text-decoration-color: #00af00\">0</span> │\n",
              "├─────────────────────────────────┼────────────────────────┼───────────────┤\n",
              "│ conv1d_1 (<span style=\"color: #0087ff; text-decoration-color: #0087ff\">Conv1D</span>)               │ (<span style=\"color: #00d7ff; text-decoration-color: #00d7ff\">None</span>, <span style=\"color: #00af00; text-decoration-color: #00af00\">16000</span>, <span style=\"color: #00af00; text-decoration-color: #00af00\">16</span>)      │            <span style=\"color: #00af00; text-decoration-color: #00af00\">64</span> │\n",
              "├─────────────────────────────────┼────────────────────────┼───────────────┤\n",
              "│ max_pooling1d (<span style=\"color: #0087ff; text-decoration-color: #0087ff\">MaxPooling1D</span>)    │ (<span style=\"color: #00d7ff; text-decoration-color: #00d7ff\">None</span>, <span style=\"color: #00af00; text-decoration-color: #00af00\">8000</span>, <span style=\"color: #00af00; text-decoration-color: #00af00\">16</span>)       │             <span style=\"color: #00af00; text-decoration-color: #00af00\">0</span> │\n",
              "├─────────────────────────────────┼────────────────────────┼───────────────┤\n",
              "│ conv1d_2 (<span style=\"color: #0087ff; text-decoration-color: #0087ff\">Conv1D</span>)               │ (<span style=\"color: #00d7ff; text-decoration-color: #00d7ff\">None</span>, <span style=\"color: #00af00; text-decoration-color: #00af00\">8000</span>, <span style=\"color: #00af00; text-decoration-color: #00af00\">8</span>)        │           <span style=\"color: #00af00; text-decoration-color: #00af00\">392</span> │\n",
              "├─────────────────────────────────┼────────────────────────┼───────────────┤\n",
              "│ max_pooling1d_1 (<span style=\"color: #0087ff; text-decoration-color: #0087ff\">MaxPooling1D</span>)  │ (<span style=\"color: #00d7ff; text-decoration-color: #00d7ff\">None</span>, <span style=\"color: #00af00; text-decoration-color: #00af00\">4000</span>, <span style=\"color: #00af00; text-decoration-color: #00af00\">8</span>)        │             <span style=\"color: #00af00; text-decoration-color: #00af00\">0</span> │\n",
              "├─────────────────────────────────┼────────────────────────┼───────────────┤\n",
              "│ conv1d_3 (<span style=\"color: #0087ff; text-decoration-color: #0087ff\">Conv1D</span>)               │ (<span style=\"color: #00d7ff; text-decoration-color: #00d7ff\">None</span>, <span style=\"color: #00af00; text-decoration-color: #00af00\">4000</span>, <span style=\"color: #00af00; text-decoration-color: #00af00\">8</span>)        │           <span style=\"color: #00af00; text-decoration-color: #00af00\">200</span> │\n",
              "├─────────────────────────────────┼────────────────────────┼───────────────┤\n",
              "│ up_sampling1d (<span style=\"color: #0087ff; text-decoration-color: #0087ff\">UpSampling1D</span>)    │ (<span style=\"color: #00d7ff; text-decoration-color: #00d7ff\">None</span>, <span style=\"color: #00af00; text-decoration-color: #00af00\">8000</span>, <span style=\"color: #00af00; text-decoration-color: #00af00\">8</span>)        │             <span style=\"color: #00af00; text-decoration-color: #00af00\">0</span> │\n",
              "├─────────────────────────────────┼────────────────────────┼───────────────┤\n",
              "│ conv1d_4 (<span style=\"color: #0087ff; text-decoration-color: #0087ff\">Conv1D</span>)               │ (<span style=\"color: #00d7ff; text-decoration-color: #00d7ff\">None</span>, <span style=\"color: #00af00; text-decoration-color: #00af00\">8000</span>, <span style=\"color: #00af00; text-decoration-color: #00af00\">16</span>)       │           <span style=\"color: #00af00; text-decoration-color: #00af00\">400</span> │\n",
              "├─────────────────────────────────┼────────────────────────┼───────────────┤\n",
              "│ up_sampling1d_1 (<span style=\"color: #0087ff; text-decoration-color: #0087ff\">UpSampling1D</span>)  │ (<span style=\"color: #00d7ff; text-decoration-color: #00d7ff\">None</span>, <span style=\"color: #00af00; text-decoration-color: #00af00\">16000</span>, <span style=\"color: #00af00; text-decoration-color: #00af00\">16</span>)      │             <span style=\"color: #00af00; text-decoration-color: #00af00\">0</span> │\n",
              "├─────────────────────────────────┼────────────────────────┼───────────────┤\n",
              "│ conv1d_5 (<span style=\"color: #0087ff; text-decoration-color: #0087ff\">Conv1D</span>)               │ (<span style=\"color: #00d7ff; text-decoration-color: #00d7ff\">None</span>, <span style=\"color: #00af00; text-decoration-color: #00af00\">16000</span>, <span style=\"color: #00af00; text-decoration-color: #00af00\">1</span>)       │            <span style=\"color: #00af00; text-decoration-color: #00af00\">49</span> │\n",
              "└─────────────────────────────────┴────────────────────────┴───────────────┘\n",
              "</pre>\n"
            ]
          },
          "metadata": {}
        },
        {
          "output_type": "display_data",
          "data": {
            "text/plain": [
              "\u001b[1m Total params: \u001b[0m\u001b[38;5;34m1,105\u001b[0m (4.32 KB)\n"
            ],
            "text/html": [
              "<pre style=\"white-space:pre;overflow-x:auto;line-height:normal;font-family:Menlo,'DejaVu Sans Mono',consolas,'Courier New',monospace\"><span style=\"font-weight: bold\"> Total params: </span><span style=\"color: #00af00; text-decoration-color: #00af00\">1,105</span> (4.32 KB)\n",
              "</pre>\n"
            ]
          },
          "metadata": {}
        },
        {
          "output_type": "display_data",
          "data": {
            "text/plain": [
              "\u001b[1m Trainable params: \u001b[0m\u001b[38;5;34m1,105\u001b[0m (4.32 KB)\n"
            ],
            "text/html": [
              "<pre style=\"white-space:pre;overflow-x:auto;line-height:normal;font-family:Menlo,'DejaVu Sans Mono',consolas,'Courier New',monospace\"><span style=\"font-weight: bold\"> Trainable params: </span><span style=\"color: #00af00; text-decoration-color: #00af00\">1,105</span> (4.32 KB)\n",
              "</pre>\n"
            ]
          },
          "metadata": {}
        },
        {
          "output_type": "display_data",
          "data": {
            "text/plain": [
              "\u001b[1m Non-trainable params: \u001b[0m\u001b[38;5;34m0\u001b[0m (0.00 B)\n"
            ],
            "text/html": [
              "<pre style=\"white-space:pre;overflow-x:auto;line-height:normal;font-family:Menlo,'DejaVu Sans Mono',consolas,'Courier New',monospace\"><span style=\"font-weight: bold\"> Non-trainable params: </span><span style=\"color: #00af00; text-decoration-color: #00af00\">0</span> (0.00 B)\n",
              "</pre>\n"
            ]
          },
          "metadata": {}
        }
      ]
    },
    {
      "cell_type": "code",
      "source": [
        "model.fit(X_noisy, Y_clean, epochs=50, batch_size=8, validation_split=0.1)\n"
      ],
      "metadata": {
        "colab": {
          "base_uri": "https://localhost:8080/"
        },
        "id": "UEaOdzj5boDR",
        "outputId": "f9ca49e9-45ee-4717-c651-b95f9e6ea2fb"
      },
      "execution_count": 37,
      "outputs": [
        {
          "output_type": "stream",
          "name": "stdout",
          "text": [
            "Epoch 1/50\n",
            "\u001b[1m12/12\u001b[0m \u001b[32m━━━━━━━━━━━━━━━━━━━━\u001b[0m\u001b[37m\u001b[0m \u001b[1m0s\u001b[0m 35ms/step - loss: 0.0037 - val_loss: 0.0052\n",
            "Epoch 2/50\n",
            "\u001b[1m12/12\u001b[0m \u001b[32m━━━━━━━━━━━━━━━━━━━━\u001b[0m\u001b[37m\u001b[0m \u001b[1m0s\u001b[0m 22ms/step - loss: 0.0038 - val_loss: 0.0052\n",
            "Epoch 3/50\n",
            "\u001b[1m12/12\u001b[0m \u001b[32m━━━━━━━━━━━━━━━━━━━━\u001b[0m\u001b[37m\u001b[0m \u001b[1m0s\u001b[0m 20ms/step - loss: 0.0038 - val_loss: 0.0052\n",
            "Epoch 4/50\n",
            "\u001b[1m12/12\u001b[0m \u001b[32m━━━━━━━━━━━━━━━━━━━━\u001b[0m\u001b[37m\u001b[0m \u001b[1m0s\u001b[0m 20ms/step - loss: 0.0033 - val_loss: 0.0052\n",
            "Epoch 5/50\n",
            "\u001b[1m12/12\u001b[0m \u001b[32m━━━━━━━━━━━━━━━━━━━━\u001b[0m\u001b[37m\u001b[0m \u001b[1m0s\u001b[0m 21ms/step - loss: 0.0034 - val_loss: 0.0051\n",
            "Epoch 6/50\n",
            "\u001b[1m12/12\u001b[0m \u001b[32m━━━━━━━━━━━━━━━━━━━━\u001b[0m\u001b[37m\u001b[0m \u001b[1m0s\u001b[0m 20ms/step - loss: 0.0034 - val_loss: 0.0051\n",
            "Epoch 7/50\n",
            "\u001b[1m12/12\u001b[0m \u001b[32m━━━━━━━━━━━━━━━━━━━━\u001b[0m\u001b[37m\u001b[0m \u001b[1m0s\u001b[0m 24ms/step - loss: 0.0035 - val_loss: 0.0051\n",
            "Epoch 8/50\n",
            "\u001b[1m12/12\u001b[0m \u001b[32m━━━━━━━━━━━━━━━━━━━━\u001b[0m\u001b[37m\u001b[0m \u001b[1m1s\u001b[0m 24ms/step - loss: 0.0035 - val_loss: 0.0051\n",
            "Epoch 9/50\n",
            "\u001b[1m12/12\u001b[0m \u001b[32m━━━━━━━━━━━━━━━━━━━━\u001b[0m\u001b[37m\u001b[0m \u001b[1m1s\u001b[0m 27ms/step - loss: 0.0034 - val_loss: 0.0051\n",
            "Epoch 10/50\n",
            "\u001b[1m12/12\u001b[0m \u001b[32m━━━━━━━━━━━━━━━━━━━━\u001b[0m\u001b[37m\u001b[0m \u001b[1m0s\u001b[0m 21ms/step - loss: 0.0034 - val_loss: 0.0051\n",
            "Epoch 11/50\n",
            "\u001b[1m12/12\u001b[0m \u001b[32m━━━━━━━━━━━━━━━━━━━━\u001b[0m\u001b[37m\u001b[0m \u001b[1m0s\u001b[0m 21ms/step - loss: 0.0032 - val_loss: 0.0051\n",
            "Epoch 12/50\n",
            "\u001b[1m12/12\u001b[0m \u001b[32m━━━━━━━━━━━━━━━━━━━━\u001b[0m\u001b[37m\u001b[0m \u001b[1m0s\u001b[0m 22ms/step - loss: 0.0035 - val_loss: 0.0051\n",
            "Epoch 13/50\n",
            "\u001b[1m12/12\u001b[0m \u001b[32m━━━━━━━━━━━━━━━━━━━━\u001b[0m\u001b[37m\u001b[0m \u001b[1m0s\u001b[0m 21ms/step - loss: 0.0035 - val_loss: 0.0051\n",
            "Epoch 14/50\n",
            "\u001b[1m12/12\u001b[0m \u001b[32m━━━━━━━━━━━━━━━━━━━━\u001b[0m\u001b[37m\u001b[0m \u001b[1m0s\u001b[0m 21ms/step - loss: 0.0036 - val_loss: 0.0051\n",
            "Epoch 15/50\n",
            "\u001b[1m12/12\u001b[0m \u001b[32m━━━━━━━━━━━━━━━━━━━━\u001b[0m\u001b[37m\u001b[0m \u001b[1m0s\u001b[0m 24ms/step - loss: 0.0033 - val_loss: 0.0051\n",
            "Epoch 16/50\n",
            "\u001b[1m12/12\u001b[0m \u001b[32m━━━━━━━━━━━━━━━━━━━━\u001b[0m\u001b[37m\u001b[0m \u001b[1m0s\u001b[0m 20ms/step - loss: 0.0035 - val_loss: 0.0051\n",
            "Epoch 17/50\n",
            "\u001b[1m12/12\u001b[0m \u001b[32m━━━━━━━━━━━━━━━━━━━━\u001b[0m\u001b[37m\u001b[0m \u001b[1m0s\u001b[0m 20ms/step - loss: 0.0037 - val_loss: 0.0051\n",
            "Epoch 18/50\n",
            "\u001b[1m12/12\u001b[0m \u001b[32m━━━━━━━━━━━━━━━━━━━━\u001b[0m\u001b[37m\u001b[0m \u001b[1m0s\u001b[0m 24ms/step - loss: 0.0033 - val_loss: 0.0050\n",
            "Epoch 19/50\n",
            "\u001b[1m12/12\u001b[0m \u001b[32m━━━━━━━━━━━━━━━━━━━━\u001b[0m\u001b[37m\u001b[0m \u001b[1m0s\u001b[0m 21ms/step - loss: 0.0035 - val_loss: 0.0050\n",
            "Epoch 20/50\n",
            "\u001b[1m12/12\u001b[0m \u001b[32m━━━━━━━━━━━━━━━━━━━━\u001b[0m\u001b[37m\u001b[0m \u001b[1m0s\u001b[0m 21ms/step - loss: 0.0035 - val_loss: 0.0050\n",
            "Epoch 21/50\n",
            "\u001b[1m12/12\u001b[0m \u001b[32m━━━━━━━━━━━━━━━━━━━━\u001b[0m\u001b[37m\u001b[0m \u001b[1m0s\u001b[0m 21ms/step - loss: 0.0032 - val_loss: 0.0050\n",
            "Epoch 22/50\n",
            "\u001b[1m12/12\u001b[0m \u001b[32m━━━━━━━━━━━━━━━━━━━━\u001b[0m\u001b[37m\u001b[0m \u001b[1m0s\u001b[0m 24ms/step - loss: 0.0034 - val_loss: 0.0050\n",
            "Epoch 23/50\n",
            "\u001b[1m12/12\u001b[0m \u001b[32m━━━━━━━━━━━━━━━━━━━━\u001b[0m\u001b[37m\u001b[0m \u001b[1m0s\u001b[0m 23ms/step - loss: 0.0033 - val_loss: 0.0050\n",
            "Epoch 24/50\n",
            "\u001b[1m12/12\u001b[0m \u001b[32m━━━━━━━━━━━━━━━━━━━━\u001b[0m\u001b[37m\u001b[0m \u001b[1m0s\u001b[0m 21ms/step - loss: 0.0033 - val_loss: 0.0050\n",
            "Epoch 25/50\n",
            "\u001b[1m12/12\u001b[0m \u001b[32m━━━━━━━━━━━━━━━━━━━━\u001b[0m\u001b[37m\u001b[0m \u001b[1m0s\u001b[0m 20ms/step - loss: 0.0036 - val_loss: 0.0050\n",
            "Epoch 26/50\n",
            "\u001b[1m12/12\u001b[0m \u001b[32m━━━━━━━━━━━━━━━━━━━━\u001b[0m\u001b[37m\u001b[0m \u001b[1m0s\u001b[0m 21ms/step - loss: 0.0036 - val_loss: 0.0050\n",
            "Epoch 27/50\n",
            "\u001b[1m12/12\u001b[0m \u001b[32m━━━━━━━━━━━━━━━━━━━━\u001b[0m\u001b[37m\u001b[0m \u001b[1m0s\u001b[0m 21ms/step - loss: 0.0036 - val_loss: 0.0049\n",
            "Epoch 28/50\n",
            "\u001b[1m12/12\u001b[0m \u001b[32m━━━━━━━━━━━━━━━━━━━━\u001b[0m\u001b[37m\u001b[0m \u001b[1m0s\u001b[0m 20ms/step - loss: 0.0034 - val_loss: 0.0049\n",
            "Epoch 29/50\n",
            "\u001b[1m12/12\u001b[0m \u001b[32m━━━━━━━━━━━━━━━━━━━━\u001b[0m\u001b[37m\u001b[0m \u001b[1m0s\u001b[0m 20ms/step - loss: 0.0033 - val_loss: 0.0049\n",
            "Epoch 30/50\n",
            "\u001b[1m12/12\u001b[0m \u001b[32m━━━━━━━━━━━━━━━━━━━━\u001b[0m\u001b[37m\u001b[0m \u001b[1m0s\u001b[0m 24ms/step - loss: 0.0033 - val_loss: 0.0048\n",
            "Epoch 31/50\n",
            "\u001b[1m12/12\u001b[0m \u001b[32m━━━━━━━━━━━━━━━━━━━━\u001b[0m\u001b[37m\u001b[0m \u001b[1m0s\u001b[0m 20ms/step - loss: 0.0030 - val_loss: 0.0044\n",
            "Epoch 32/50\n",
            "\u001b[1m12/12\u001b[0m \u001b[32m━━━━━━━━━━━━━━━━━━━━\u001b[0m\u001b[37m\u001b[0m \u001b[1m0s\u001b[0m 25ms/step - loss: 0.0026 - val_loss: 0.0045\n",
            "Epoch 33/50\n",
            "\u001b[1m12/12\u001b[0m \u001b[32m━━━━━━━━━━━━━━━━━━━━\u001b[0m\u001b[37m\u001b[0m \u001b[1m1s\u001b[0m 21ms/step - loss: 0.0024 - val_loss: 0.0043\n",
            "Epoch 34/50\n",
            "\u001b[1m12/12\u001b[0m \u001b[32m━━━━━━━━━━━━━━━━━━━━\u001b[0m\u001b[37m\u001b[0m \u001b[1m0s\u001b[0m 21ms/step - loss: 0.0024 - val_loss: 0.0043\n",
            "Epoch 35/50\n",
            "\u001b[1m12/12\u001b[0m \u001b[32m━━━━━━━━━━━━━━━━━━━━\u001b[0m\u001b[37m\u001b[0m \u001b[1m0s\u001b[0m 20ms/step - loss: 0.0023 - val_loss: 0.0044\n",
            "Epoch 36/50\n",
            "\u001b[1m12/12\u001b[0m \u001b[32m━━━━━━━━━━━━━━━━━━━━\u001b[0m\u001b[37m\u001b[0m \u001b[1m0s\u001b[0m 21ms/step - loss: 0.0024 - val_loss: 0.0043\n",
            "Epoch 37/50\n",
            "\u001b[1m12/12\u001b[0m \u001b[32m━━━━━━━━━━━━━━━━━━━━\u001b[0m\u001b[37m\u001b[0m \u001b[1m0s\u001b[0m 20ms/step - loss: 0.0021 - val_loss: 0.0043\n",
            "Epoch 38/50\n",
            "\u001b[1m12/12\u001b[0m \u001b[32m━━━━━━━━━━━━━━━━━━━━\u001b[0m\u001b[37m\u001b[0m \u001b[1m0s\u001b[0m 20ms/step - loss: 0.0023 - val_loss: 0.0043\n",
            "Epoch 39/50\n",
            "\u001b[1m12/12\u001b[0m \u001b[32m━━━━━━━━━━━━━━━━━━━━\u001b[0m\u001b[37m\u001b[0m \u001b[1m0s\u001b[0m 24ms/step - loss: 0.0024 - val_loss: 0.0043\n",
            "Epoch 40/50\n",
            "\u001b[1m12/12\u001b[0m \u001b[32m━━━━━━━━━━━━━━━━━━━━\u001b[0m\u001b[37m\u001b[0m \u001b[1m0s\u001b[0m 21ms/step - loss: 0.0022 - val_loss: 0.0043\n",
            "Epoch 41/50\n",
            "\u001b[1m12/12\u001b[0m \u001b[32m━━━━━━━━━━━━━━━━━━━━\u001b[0m\u001b[37m\u001b[0m \u001b[1m0s\u001b[0m 20ms/step - loss: 0.0024 - val_loss: 0.0042\n",
            "Epoch 42/50\n",
            "\u001b[1m12/12\u001b[0m \u001b[32m━━━━━━━━━━━━━━━━━━━━\u001b[0m\u001b[37m\u001b[0m \u001b[1m0s\u001b[0m 21ms/step - loss: 0.0022 - val_loss: 0.0043\n",
            "Epoch 43/50\n",
            "\u001b[1m12/12\u001b[0m \u001b[32m━━━━━━━━━━━━━━━━━━━━\u001b[0m\u001b[37m\u001b[0m \u001b[1m0s\u001b[0m 21ms/step - loss: 0.0023 - val_loss: 0.0042\n",
            "Epoch 44/50\n",
            "\u001b[1m12/12\u001b[0m \u001b[32m━━━━━━━━━━━━━━━━━━━━\u001b[0m\u001b[37m\u001b[0m \u001b[1m0s\u001b[0m 27ms/step - loss: 0.0023 - val_loss: 0.0042\n",
            "Epoch 45/50\n",
            "\u001b[1m12/12\u001b[0m \u001b[32m━━━━━━━━━━━━━━━━━━━━\u001b[0m\u001b[37m\u001b[0m \u001b[1m1s\u001b[0m 27ms/step - loss: 0.0022 - val_loss: 0.0041\n",
            "Epoch 46/50\n",
            "\u001b[1m12/12\u001b[0m \u001b[32m━━━━━━━━━━━━━━━━━━━━\u001b[0m\u001b[37m\u001b[0m \u001b[1m0s\u001b[0m 27ms/step - loss: 0.0022 - val_loss: 0.0041\n",
            "Epoch 47/50\n",
            "\u001b[1m12/12\u001b[0m \u001b[32m━━━━━━━━━━━━━━━━━━━━\u001b[0m\u001b[37m\u001b[0m \u001b[1m0s\u001b[0m 27ms/step - loss: 0.0021 - val_loss: 0.0041\n",
            "Epoch 48/50\n",
            "\u001b[1m12/12\u001b[0m \u001b[32m━━━━━━━━━━━━━━━━━━━━\u001b[0m\u001b[37m\u001b[0m \u001b[1m1s\u001b[0m 21ms/step - loss: 0.0024 - val_loss: 0.0040\n",
            "Epoch 49/50\n",
            "\u001b[1m12/12\u001b[0m \u001b[32m━━━━━━━━━━━━━━━━━━━━\u001b[0m\u001b[37m\u001b[0m \u001b[1m0s\u001b[0m 21ms/step - loss: 0.0022 - val_loss: 0.0041\n",
            "Epoch 50/50\n",
            "\u001b[1m12/12\u001b[0m \u001b[32m━━━━━━━━━━━━━━━━━━━━\u001b[0m\u001b[37m\u001b[0m \u001b[1m0s\u001b[0m 24ms/step - loss: 0.0021 - val_loss: 0.0040\n"
          ]
        },
        {
          "output_type": "execute_result",
          "data": {
            "text/plain": [
              "<keras.src.callbacks.history.History at 0x7ba9c379be50>"
            ]
          },
          "metadata": {},
          "execution_count": 37
        }
      ]
    },
    {
      "cell_type": "code",
      "source": [
        "import IPython.display as ipd\n",
        "\n",
        "# Pick a test sample\n",
        "test_index = 0\n",
        "noisy_input = X_noisy[test_index][np.newaxis, ...]  # add batch dimension\n",
        "\n",
        "# Predict denoised output\n",
        "denoised_output = model.predict(noisy_input)\n",
        "\n",
        "# Listen to original noisy and denoised\n",
        "print(\"Noisy Audio:\")\n",
        "ipd.display(ipd.Audio(X_noisy[test_index].squeeze(), rate=16000))\n",
        "\n",
        "print(\"Denoised Audio:\")\n",
        "ipd.display(ipd.Audio(denoised_output.squeeze(), rate=16000))\n",
        "\n",
        "print(\"Clean Audio (Ground Truth):\")\n",
        "ipd.display(ipd.Audio(Y_clean[test_index].squeeze(), rate=16000))\n"
      ],
      "metadata": {
        "colab": {
          "base_uri": "https://localhost:8080/",
          "height": 263
        },
        "id": "2a50kFDGb6Qv",
        "outputId": "b8f8484f-c549-47b5-93d1-e77ca6121711"
      },
      "execution_count": 38,
      "outputs": [
        {
          "output_type": "stream",
          "name": "stdout",
          "text": [
            "\u001b[1m1/1\u001b[0m \u001b[32m━━━━━━━━━━━━━━━━━━━━\u001b[0m\u001b[37m\u001b[0m \u001b[1m1s\u001b[0m 1s/step\n",
            "Noisy Audio:\n"
          ]
        },
        {
          "output_type": "display_data",
          "data": {
            "text/plain": [
              "<IPython.lib.display.Audio object>"
            ],
            "text/html": [
              "\n",
              "                <audio  controls=\"controls\" >\n",
              "                    <source src=\"data:audio/wav;base64,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\" type=\"audio/wav\" />\n",
              "                    Your browser does not support the audio element.\n",
              "                </audio>\n",
              "              "
            ]
          },
          "metadata": {}
        },
        {
          "output_type": "stream",
          "name": "stdout",
          "text": [
            "Denoised Audio:\n"
          ]
        },
        {
          "output_type": "display_data",
          "data": {
            "text/plain": [
              "<IPython.lib.display.Audio object>"
            ],
            "text/html": [
              "\n",
              "                <audio  controls=\"controls\" >\n",
              "                    <source src=\"data:audio/wav;base64,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\" type=\"audio/wav\" />\n",
              "                    Your browser does not support the audio element.\n",
              "                </audio>\n",
              "              "
            ]
          },
          "metadata": {}
        },
        {
          "output_type": "stream",
          "name": "stdout",
          "text": [
            "Clean Audio (Ground Truth):\n"
          ]
        },
        {
          "output_type": "display_data",
          "data": {
            "text/plain": [
              "<IPython.lib.display.Audio object>"
            ],
            "text/html": [
              "\n",
              "                <audio  controls=\"controls\" >\n",
              "                    <source src=\"data:audio/wav;base64,UklGRiR9AABXQVZFZm10IBAAAAABAAEAgD4AAAB9AAACABAAZGF0YQB9AABX//j+wv6y/mz/ZP9f/3X/XP8x/3b/OP9A/6D/wv9+/0n/hf9j/5j/tv+d/8H/5P99/xf/WP98/3v/tf9t/0//G//+/nP/Pv9w/zz/T/9S/wH/KP+m/8D/Tf91/53/Vv8z/7f/V/+C/6//l/9s/4//AADj/5T/IAAUAJr/OwAMABQA1f9EAFQAmQCSAEkA8wCaACsAdACpAEkArQB+ABgAWgDtANoAMwA0AHwAhwC1AJUAIABkALsAwwAuAFIAZQD4/34AbwDU/0IAWQApAHkAVQDq/zcAfgDE/0EALgAOAE8ABgARAOL/cgDb/8L/MgC5/+D/QQBLAMf/3f9UAOj/o/+7/6z/IQBFAO//tf8dAOT/3/83AD8A+v8iAJoAx//4/yUARABNAFkAwwCxAJQAVACAANEATwAIAF4AmADPAFIA9/9DAEcAHQDw/1IASwAEAC8ACwDG/6D/zv/q//T/mf+E/zD/U/8i/2f/rf8k/57/TP/4/o//tv9V/87/+f+7/47/nv/r/53/kf+Y/1L/r//w/0AADAAhAL7/zf6Y/0L/Nf/P/2P/kf+D/3L/Nf++/jb/5f65/n7/Wf/O/vz+Av/+/iT//v7c/sH+7f6s/qz+x/6e/sj+oP61/mj+Jv5V/hb+c/6x/m/+lP5L/j7+Ff4H/h/+FP5v/mb+OP43/kD+T/7d/Tn+rv5x/jD+F/42/mb9Cf4G/uv99P3d/SD+2v2B/Vv9iP13/ev9u/2l/XX9cf2l/UT++/3K/er9lv3L/df9rf3p/UT+Iv7e/bf9Hv7//T7+Ff6Z/dj9CP6//cX9/v1d/hz+qf3e/d/92P3+/VX+yv3p/Tf+Ef4X/jj+aP5S/kT+uP1o/cr98v3U/fj9aP4D/gL+Uf7P/Sv+H/5I/m3+Iv58/j3+dP6C/jf+Wf5k/on+tP51/kj+e/5d/pL+q/5f/pT+lv4j/pT+Bv+a/rX+1/6p/m/+rf7X/qP+e/46/oH+qP5v/q39w/0c/hf+6/2g/Xb+e/7u/cf9HP5F/v/99P3s/ZX9+/1b/u79yv20/av9Bf3u/DH9hf2H/XX9cf16/R/9if3u/Vr9zP2g/ej9tv27/cL9l/3U/bX9if2B/YX9Mv2i/RL+Fv4W/gL+hf2O/af9j/3S/SD+Iv7m/aP97/01/hP+G/4t/kz+0P3x/QT+4f0Z/gj+Df5D/kv+i/6l/pj+of45/sD+sf5L/mr+Pv5V/rz+x/5V/mv+q/6w/nH+p/6H/lT+t/6s/rz+gP6h/s7+tv6t/p3+l/6O/q3+ov67/kv/A//z/gz/oP4X/wH/A/8P/1n/Pv8j/z//Ff9Y/5f/Mv+o/vb+o/95/2X/5f/U/x0Ajf+3/+H/ev+a/+T/TABAANj/EwBoAAUArf+3//j/wv/m/wYANAA7AAYAQQBIAPT/CgAZAB8ATQAGAFEApQAwAMAA0QCMAOUA3wDDAMwA1QDPACgBrwCNAMMAoACHALUAjwBVAKAAugDYAFoA1QAFAcoAUgEHASMBFAHnAD8BgQF4AXwBrAGFAaABXQGiASYCHQJBArsB2AGeAWYBwwHlASYC5QHfAf8BCQK/AW8B6QHRAUEBowHMAZ0BiwHVAXkBeAF2ATkBbwFUAWYBbAGXAdoB5QGPAZEBNgEaAWsBogFhAbkB2wHTAdABTgGJAdEBvQFMAZMBsgHIAZgBmgH1AfIBkwFrAXsBvAHbAWcBuQHDAZoB0gGjAbMBZAE9AZsBZQFhATEBQwEPAS0BlQFFAREBZgGpAWYBiAFhAXEBrwGeAb8BYQE9AWcBVQFUARIB+gD9APIAEwEqAYEBGgHGAK4BYAECAUQBewFcAX8BoAFcAYgBVwGhAcgBpAGpAbsBKAI1AswBEAImAgUCEAIiAl4CXQIxAugB4AFAAikCvQH+AfoB0AGFAbYB0QFyAbgBsQGQAccBtAF7AXsBXQFXAZ8BiQFyAZIBgQGNAWwBZQF3AYABagFLAXgBRAEuAbEBgwExAXoB0AFzAW8BpAGVAfEBkQGHAXYBZgFzAWMBWQFxAawBawGCAXUBHwEiAd0AmwASAe4AuwDNAMUAuACgAL4AaQC8APUAjACYALYA/gDWAMQA0gDGAOsA2QAGAQwB/wD5AKsASgEZAdkAzwCDAMUAnADyAM8A/ABCAQ4BsADLAK4APgCiAIYATgChAE4AHwBDAEIApABDAEQASgDa/wwAkAB3AF8AWQDg/xsAOgAYAAIA5v8/APX/HQCGADcANQBYAEsAOABCAJoAbACEAL0AeQCEAG4AjwBAAGkAZQBkAGYAOgCXAGEAZACYADwA+v+lAKMAUQCjAHYASgAbACYANwBLAJAAiwCaAHYAZACJACIABQBvAGQAbgBpAHEAcABFACoA5P8fAFIAEQAOACoAQgBCAC4ASABfAAYAKADv/7r/iABrAAQAuv8bAEMAcwCVAFIAYgAEAFAAgQCFANQAFAGrAIcAmgBZAEoAZgBoADkAlwCAAEQARQA3AHsAOQAyACgA6P8KANL/0f/J/w8AIAAtADEAFgAnAAAA//+4/6b/wv/y/9b/2f+s/9r/MACt/6L/n/+d/33/Vv+2/7j/mP/i/9j/z//S/93/LwAGAOP/yv8SADsAHQBfAG4AYgA8AFUASQDu/8f/FwDn/4f/xf/x/ykATQDj/9T/AwCr/xEAagArABcA1//2/wEAwf/F/+r/DQAIAOn/s//O/9b/5f8AABIAz/9l/7T/wP+U//n/EwC1/wkAHwALAAMAu////wwAqP/J//L/JgBeAAsA+P/g/8z/DQDU/7j/DAAwAD4AuP+Z/9L/4f8EAAMA3P/P/5r/e/8HAPb/4P/g/+r/4v8HACQAAgAdABAA4/+o/xgA4v+q/9n////g/6//CADM/8H/vv/W/7n/j/95/2n/lf9N/1L/KP9C/1D/Kv9Z/4L/V/8v/3X/lf+P/2r/If8x/0n/9f5d/2n/Nf8w/0//RP/q/lL/cf9O/z7/Nv8r/0L/Yv9v/4n/if96/3L/Lv+Q/5j/Vf/M/7n/s/+c/6L/3f/V/13/Zv+Y/8H/CwDO/4n/Jf/r/iD/2P7r/mL/z/7D/hr/9f4Q/wX/+/7q/rb+5/7w/k//k/9p/0X/9v7n/lv/VP+H/4j/cf9v/0P/V/9G/3j/Mf8n/w3/U/9Q/3//xf91/wb/Nf98/0z/ff+a/5v/ff/K/17/hP+s/3P/kv92/1f/c/+V//z/CgCX/63/wf/G/9z/1f+k/xYAVwAoADoAnQC/AIQAUgBCAPb/1f8EABEAVgBdAEIAZgA8ALv/2P8JALL/nv/o/4//n/+x/6n/wv+I/5z/TP+J/2z/Q/9J/xz/Xv81/wz/C/85/2b/Iv8f/3b/Xv+D/6P/cv9J/0r/bP9i/y3/WP9i/0H/kv81/x3/Vf9M/03/Gf9F/1j/d/+4/7T/m/+r/7H/m/+//+H/tP+P/7z/xP/M/7f/2/8xAO7/mf/4/0wABgDy/yUAHQAMACkABwBAAFAAIQARAPL/KwA+ACYAEgD1/+L/xv8KAC8A2P8zAEAA+v9ZAJcAcwCuAGwAYADGAKwAqwCnAPcAlQB0ALkAqwCtAJYAuQDRALUAgQCxACsBugC7AEsBIAH7AMkA/gD6AP8AugD+ACkB2AAIAcMA4wCkAKsAmADCAMUAlgDjAJIApgC1AKkA+gD+APwAvACxAA4B3QDcAKcAlACaAL4AnwCwANUAogC2AIMAAAFQAdIAgQCYAHgAVwCSAFwAUgBqAGcAWACBAKQAngDEAGAAjwCOAHcAfQCOAN0AvAC0AJsAlACfALEAtwCmAJkAkQCmAHAAKQD1/5n/uP/X/xIAKAAmABEAJgCKAGwAqwDMAOsAuwCfAAsBsADrAFQBUAEAAeUAyACZAN8AvwDHAO0AcQAPAEsAFAAyAFwA9//Q/8j/zv8DAOL/BQDF/3b/jv9Y/2f/6f5C/7f/T//y/rn+t/4F/wX/+/5U/yD/Iv9q/8n/GgAgAC0AYABDAMr/0v8TABcAz//R/8//wv/Y/8f/AwD8/37/W/+6/+z/6P/v//b/pf+7/7v/8f9KAND/7v8kABQAAQDr/08ANwAEAPT/0v+e/0z/sP9w/67/6P+h/5v/gP9+/z7/UP9G/2T/SP9A/wT/3/7j/sD+3P7P/rr+sP7y/qH+3/5g/1v/UP82/+r+DP9w/2j/nv8HABIAnf9z/3H/AgBUADEAQQAIAOn/5f/7/1kAYABJAE0AMgAYAP3/UADXAI0AFABDAFYAXAC2AMYAjgB1ADQAHQAeABoAIQBSAEgAIgAOAPn/RwB4ADgAcQBpACUATAA3AGkAnADJAIgAdgCVAFYAjgCXAI8AjwBkAIQAhQCIAKoArwDFAHYAWgCUAJIAggC1ANwA2ADIAKEA5gD3APAALQFQAe4AygD4AL0AvgDaAMQAwADIAL4AuwB/AH0AvwDYAKsAegBWAGgAsQDvAPcAtACgAGsAqADFALIA9AD0AP8AxACkANQA7QDpAA4B2wC/AKQAkADbAOQADAH0AMIA5gDnAOYAOQEDAakAogCyAHYAagCaAKUAmQBNAIcATgAgABYAy/8KAML/sf/u/7//3f/u/+j/yv/n/+H/HQAeAOj/CgAzAHUAPgBCAE4ATQAZAP7/wv/D/+v/AAD1//L/EwDj/wMA2P/n/yIA4P/I//3/6v8UAAYA4//G/7P/zP/G/7T/Z/9m/2P/PP9Y/4n/Xv91/2b/E/8g/1b/P/88/2P/Qv8Q/8j+FP+X/5D/W/8z/zT/Lf8g/1D/ev+M/4P/X/9G/3P/b/9x/8H/x/+n/6r/s//t/wYAy/+4/5H/ff9o/4j/nP+k/3v/df+w/7j/zP/E/+D/6//D/7H/CwD7/xsARAAZABEAIABbAF8AagA0AE0AeABLAF4AiQBxAHAAXwCEAKcANgBDAF0AKwAMAPr/EQBHAEIAKQAnADMALAAyADEAPAB5ADAANQBbAKgA1ADDAPMAxwCRAH8AegCOAAQB6gDPAPAAvgD/ACwBKQGCAVYBFAEDAdcAHgE3ATgBDgHzAO4AtgDbABoBTwEmAfwAIAHXAAUBQAEfAXkBQgEaATMB+gCIAZwBMwGFAY4BbAFRATwBSgE2ATkBUgFBATMBNAHqANIA6gDHAM4A0QCoAKEAdQBsAHEAPAAnACQACADj/8v/z//6/9v/2v/Y/8//uv+c/4P/Yf+J/1D/hv+I/3T/g/+J/+P/wv/G/9f/9v/e/+H/8//w/+X/2v/O/87/vf+9//r/p//c/+3/6f/f/63/6P/m/6n/uf+w/7T/sf9I/2//mf+r/2//Ff8T/9j+zf7L/sf+A//Z/rD+yf7R/vP+9v7x/jH///7L/r/+3/4J/+v+4v7Z/sj+jf7A/sX+sP6A/lX+nf6u/kn+Ov5P/mD+m/6B/qb+x/7A/o/+mP6q/qv+pP51/l7+ef4u/hn+Iv48/nT+Kf4n/iz+Xf5z/n3+r/6d/kz+jP6T/rv+BP/e/iL//f7//in/8/7v/gv/6v4T/+T+pf7N/sv+7v79/hL/B/8h/wr/Pf9F/wr/Ff/D/v3+9/6//gb/9f71/i3/Ov8z/xj/Av8n/1b/X/9y/13/PP82/yr/J/9i/3n/P/9A/xz/C/9d/2j/mv93/2T/Yv/d/tT+FP9A/3L/X//j/gD/Bf8I/1T/Qv9Z/zP/Ef9V/3H/l/+7/4r/pf+n/5z/pf90/5v/o//T/6//Yv+n/3L/gf+V/0H/P/9D/1r/P/9A/zb/CP8h/13/cP+F/7L/d/93/5f/sv/W/8z/2P/Q/7D/of/Y/+P/sf/f/wsAAAD//zcAQAAlAEUATAA9AGEATABOAKMAlwAzAOb/DwBEAFQATQA5AEgAXQA+ABwAAACx/+L/5P/K//r/u//S/+H/mP+1/5v/mf/D/4f/lf+G/6j/rP+k//H/AAAnAPz/6v8lAAYACwAMAA0ASAAfAE4AdgBQAGwAlABtAGMAegBiAHMAcQA9AEgAlQCUAJwAsACtAHkAbgBfAJsAWAAOAEsAdgCgADUAEgAXACoAMgAvADEAkgBXAD0AcQByAKsAXwB5AKoAiAA4ACwAUgCNAJMAZgBZAFMAewA7AGEAzQCyAJwAYAAbADMAFgBWAI8AvQDhAJkAsQCkALwA5ADxAKQAlwBjAFMAYwBeAKYAjQBfACIAAQAjAB0AHwA0AC0AJgDI//7/HwBAACAAQwA4APz//v/U/wQA7f8IAPP/DAAzAGsAZgBHAGYAfQCOALgA0wCcAHwATACuAMQAhwDaALIAuwCjAF8AtgC1AK0AdQBbAIsAbgBGAHoAXwBMAIYAbwB0AEIAMwCDALUAiwB4AGQAbABPABYAIwAjADgA5/+t//n/BQD///r/0v/Y/9j/3//G/8f/q/++/yEAYABwAGIAagCrAMEAfQCKAJQAawBGAGAAiQCMAEAARgBdAFIATgCKANoA3gC6AOUADgElAV8BRwGiAZsBpQGKAcIB7wG1AZwBYwGQAZ4BpAGvAb4BiwFMAUABVgGKAaYBqwFRAXQBnAFxAcQBxAHyAcwBCAJGAvYB2AH0AfIB1gGqAZ4B3wHrARYCQgJCAvYBLAIUAjICWQJHAlECZwKGAjsCPQJYAkACPQJqAkECKwLRAX4BwAHuAegB5wEYAlECQwJAAkYCMgJgAkQCAgLvAd4B8gFBAlkCYgJUAhMC/wEcAmwCZAJHAgkCCgItAkkCXwJaAjwC7AHGAfYBNwL/AfsB8AHQAeIB3AHtAV0CMALdAegBngGLAbIBlAELAs8BaAGJAVgBigFXAT0BVgFIAecA+QC/ALQAFAH4AAcB6gDLAPQACAHeACABFAEIATUB+gD4ABoBDgEoAQYBWQGLAYwBnAFVAW8BIgH8ACABHQEVAeQADQELAaMAogDaAO8A9wCqAIQA/gAOASsBKgHwANcAmwB2AM4A7QDcAMkAcQBoACoARwA5APz/MQCIAJ0AMwAwAGgAQABwAIIAdwBuAFsAWwCYALwArAALARgB/ADwAOsAmgDbAO8AtAC+AKkAlwBjAJEA2ADOAOcAkgA+AJkAsQDGAKUAyACkAIEAWAAMAEsAbwArABYANwDq/9r/pv+d/6P/hf+3/5j/hP+L/0X/PP9p/3n/hf+q/8T/zv+s/8T/3f/D/6H/m/+i/4H/rf+w/9b/8P/G/+X/vf9i/2j/tP/B/8n/uf/L/+j/4f85ABQAMQAZAOb/zv/M/9j/kv/P/4X/yf+i/5L/5/+J/4n/tf8sAAoA5//n/xIAOABRADwARgCHAAQAFABKABQATAAtAO3/EwAWAPj/s/8FAN3/mv+p/4z/xP+k/8f/yv/t/+j/7f/q/57/y/+l/5X/dv9s/5D/Pv9O/7n/eP+u/43/7v77/h3/E//2/vb+/f4C//v+9/7n/iz/S/8K/+H+uf6X/tr+6/7F/rj+uP57/j3+Z/5q/nn+Ov4j/lb+bP5A/h/+R/5S/qf+7/4N/wv/vf7Y/sz+xP73/u7+/f6v/nn+kf6P/rb+/f4u/83+kf6y/rX+xf6k/t/+1/7e/qr+c/6T/mn+cP5s/mL+VP6N/q7+z/73/uT+dv40/uT9W/6r/nD+8f6s/pb+q/5q/nf+pf72/iH/3v4Y/6/+1P41/9j+Mf8t//T+6/5C/yL/T//3/pH+5P6+/hL/L//5/mn/Pv/+/mX/R/9N/xj/Av/M/sz+wf7W/vb+kP7e/t3++v4Y/+b+/P5c/z7/1v7M/pb+mP6Z/ln+hv7N/mv+oP7R/oX+ff6J/sP+tf6x/tn+y/7j/rX+nP7q/qn+7f4x/0n/Lf8H/97+sv7W/sj+tf6t/o/+iv58/j7+lP5p/mr+7f7l/qv+jf63/rf+Z/7U/gb/5/4V/8/+3/4W//v+if6J/sT+3f4A/7T+jP5z/iH+8/1w/kz+YP6g/i/+7/2n/Xv9oP0C/lr+U/6w/ab9qP34/cr9kf2x/X39sf2q/Zr9V/28/aX9QP2j/UT9jv3c/dn9HP6x/fz9Dv4H/hH+4P0I/sT9h/2v/c/9tv21/a39l/2z/db9lP1U/Wv9hf2u/Xr9j/32/cD9xv2S/Yj9eP15/an9p/2c/WD9c/2L/Y39e/37/cr9uf38/QD+6v3M/RH+//0//jX+Bv7n/b/93v39/SH+GP7a/dj9vv2F/d39uf2F/S/+ZP5d/hj+l/38/Sr+/P0d/lr+dv7z/eH92f0p/pn+a/6W/n/+Xv5W/lf+f/5d/uv+Lf/p/u3+k/6b/oL+mP4c/xr/Cv9Z/zr/Mv8w/zT/Hv8i//v+5P5y/2z/N/8R/0D/cv+q/7X/dP9S/3X/dv+L/7z/2P/r/77/ef/i/2wAagB9AJsA7QCiAHoAiACOAPgA7gDwAOgA5QARAQoBOgFjAd8AxQCyAHAA1gC9AIIAyQCfADAAVQBgAEgAEgAjAHIAsACcAEoAGgA+AKUApQB3AFgAXgCZAMQA8gDrAIYAdQBOAKIA4wAYATkB+QDZAN0AGAELARgBLgHtAOgAywAIAUMBtwDtAMgAkwCfAI0AjgCIAI0AcQBbAF4AsgATARgB2ADwAMQA6gAhAeMA2QDHAHYAzQAHAd0A/gCwAOoAngBHAIgAewCUAJ0AYgCWAJQAPgBYAHAA1wDqABIB/QDyAEwBBAHmABYByQCxAP8AXAFvAUkBPwH2AM4ArQDEAMYA9gAVAUUBDgH7ACoB+AAtASwB9QAvAXsBLQEIASIBKAHmANkA6QDGAOEA6AAJATkBwACYAJ8AtADhABEBGAEqASMB9gDfAMMA/gD+ACoBCQHnALYAxADXANEAqwCwAOAAzACmAI0AkAChALgAlwCbAB4A5QAdAc0AyABtAJQA6QAQAdUANAFpATkB2wAeAUkBMAGLAXoBjAF8AeAA5QB5AasBxAEvApYBFQFdAbkB8AH4AToCrAGMAW8BWgHgAR4CRgLoAacBiQGrAZsBPQHkAToCAQKzAfEBAgLuAUECsQHlAR8CoQH+AScC2AH6ARsCgQJrAtIB4wE4AgsCxwFDAkkC8AG4AawB8AH1Ad4BEQLvAfQBQwKZASoBXAGnAbYBkAHuASYCHQINAukB8gG5AYMB+AEWAhYCQwIUAicCIwJYAmMCHgIgAkYCOwI7Ah4CAwJiAjQCEAJnAoACsAKpAiQCXQKpAoMCeQJEAhMCLwIdAhMC7QHnAUoCSAIYAkMCIQIvAjQCFQKHApgCagIIAi0CUwI+AlwCIwL2AVQCagIrAgECrgH9AREC0gG3Ab8BAAIDAhMCBwLLAQ8C5AH7AVYC9QHiAYwBrAEDAikCVgL8AcEB1AFSAU4BjQHWAfgBdAHCAZ8B4wFfAkECIALQAeEBIQJGArMCuAI1AvIB3AHqAdQB4AH+ARgC2QGWAaQBzwG1AVEBsAHGAaYBtwFrAT8BdwEOAg0C6wGgAXcBogF1AZkBfgFtAVkBUgF0AUQBEQEsAZIBsgF5ASUB8gC7AMwA7gD5ACYB2wC3ANMA1ADRAAUBNAHvALsAmAC2AK0A8ADHAJcAuwCKAHIAOwBDAPb/MgAeAND/CwBeAEMALwA1AOr/TgBcAEcAHwBLAHIAagBlAD8AWABaAEEA/f+//7X/q/9w/8n/7P+v//f/gQCVAFwACADo/zYAIADv/zsAWwALAOD/v/+8/8z/3v/O/5T/TP9Q//v+2v42/y//Fv8B/+H+7f7g/o7+z/7V/qD+XP6c/pf+ZP61/pD+f/5K/i3+/f0o/oz+Y/5u/qv+Yf5+/pD+yP7+/pz+Lv5D/tT+6P69/mn+Wv5C/pP+nf70/sz+Xv6c/mX+d/5i/l3+bv5n/lP+LP5w/rL+ff6K/rn+gf5c/k3+Hf5V/hL+4/0m/nL+dv4g/tj9Df5b/ln+Yv4B/vH9/v0B/ij+U/5R/gD+Fv5R/nT+kv5f/lr+3/25/QP+E/4+/iH+Dv57/Xf9qv23/bz9dv2R/aT9m/29/Zj9Wv3E/YP9jP39/bT9q/3A/WD99fwZ/Vz9RP0i/Sf9df26/X39Wf3D/R7++v3M/bX9l/1c/Xf9dP1b/WD9bv1m/Wj9gP10/UX92fzY/P38Vf1L/Q39S/1N/Rv9G/0y/SH9D/1O/Uv99Pwg/Wv9K/0b/TP9//z3/Bb9D/0a/Rj9Df3t/Pr8Qv1N/V39KP08/Un9ef2C/W/9df2u/fH9nP2U/Yf9q/2d/c/9LP4F/qb9H/0i/W/9Uf08/VP9b/2D/Wj9f/1d/Uf9bv1v/XX9Pf0Z/W39kf1Z/RP9BP0z/WD9i/2j/aX9fP1k/XH9kf1j/UP9d/2U/br9RP0C/Vr9pv2G/Tn9Kf0d/SH9cP2c/Z79mv2O/ev9Fv4N/vb9Lv7+/cf9rP3N/RX+1P3n/cz96P2L/l7+vf2P/ZX99/0N/tX9x/2d/VX9Vf08/YL9y/2V/Zv9c/2T/Zf9k/3G/Vn9CP1C/V79nP2f/Vz9jv3I/cT9s/3o/RP+yv3c/e39sf31/cj96f1Y/lP+Xv6G/oT+Lf4N/iz+UP6y/sv+t/7U/pL+VP7w/TD+gP5z/mb+8v3l/bv9m/0L/tz9xv3R/Zr9wf3g/e/9vf3v/Vj+kf6Q/in+UP78/hr/rv52/oL+yf7r/uT+CP///sb+2f4a/yL/+v7N/sr+gv6k/rH+lP73/jL/1v6l/gD/GP8J/xD/Bf/E/vH+5v4o/1H/WP9x/03/hv+N/17/mv/c/2b/dP+m/7n/yv/0/yUAGgD//83/0P/A/+D/7P8EACUAGAAGAO7/BwATAEsAcgASACMAcwA6AOL/uf8OAAwA8P/h/woAKgA5ACgAEAAiAN3/4f/j/ysAewBmAB8AAAAhAHIAEwDn//n/JABbACEAFwAOABwAGgAHAAQAVwAhAAAANgAtAJUAlQAVAA0ARQA9AO3/7P8gACcA4/8HAEwATwBdAE0AggBuABoANgCNAJ0AagBmAKUA1gDPAGoAewCTAHgAoQB4AIIAmwBKAEwAcQDBANsAlACbALUA6QDiAAMBMgE0Ac8ArgAQAR8BCQFjATwBuwDdANgAKAHYANAARwEqATcBJgEZARYB5gAhAYYBTwHpAOQACAEhATEB1QDoAMcAiwCaANgAJgGxAHQAkgCwAHwAbADGAPMA3QC4AMIA7wAEAeoA5wABAeoAmgBxAKoAvwC4AOMAkgCYALoAsgDVAK8AigB/AJEApgDHALsAtQDJAOQABAEpAS8B8ADmAPcA3gAKAc8AfQDEANUAmwBuAIoA4QDzAMoApACZAMIA3gAoASIBPgH7ANIAKAH6ACEBPgFxAYABYQFsAU8BRgFtAXwBiAGXAXcBkgG5AXsBYQGiAbIBqgGsAagBjwHVAb4BtQH3AQYCLALRAQQCCwLeARUCDwL/AewBwwHnAeoBtgGtAZgB0gGtAaEBuwGwAdgB8QHWAc4B1wHDAbgBsAGvAb0BqwF4AW0BZgF5AVEBZAFrATwBIwH1ANIABgFaAR4BGgFnAWQBXQFjAU8BhwF+AUgBQQFoAWkBYAF8AdIB8QHUAfAB5QH3AQ8C/AHzAQAC6gEBAicCMQIiAggCCgIgAk4CdgJ3AnwCaQJaAl0CigLJAq0CdwJYAlYCawKDAnoCWAJ0AlUC9QEGAvIB7QHKAeYB/gHVAcIBqQHUAdAB6AHFAaMBrAGhAbgBrQG+AfEBAQIAAvEB3AG0AdMB+QH7AeQBpwG7AdwB/wHwAe8BHQIUAhECNQIuAi0CMwJCAioCDAI0AloCkwJ6AlMCbQJsAn0CewJxApYCZgJlApMCrAK1As8CIAPdAtwCEgPSAtICrwKMApACdwJcAk0CXwJ5AjkC7gEhAkYCSwI+AikCCwLOAZ8BhwGmAaUBlAFxAXMBqgF4AZEBhgFuAYMBjAG/Aa8BggFJAUEBRgE6AWABbgFsAYcBkgGmAZkBlAGHAaoBzgHGAcQBmgGoAawBqwG7AVwBPAFgATQBPwEZAQkBCAH4APkAPAFjARYB6gC4AKkAtQCdAKoAzQC9ALwAgQB4AJwAswCxAHoAUwAmADYAbABuAH4AWgBcAHEATACWAJkApQDKAJEAgwCPAHIAbwCFAIkAfwBgAEAANgBLAGMAdwB7AFoAVgBnAGYAZQB5AJoAngBrAGwAkgCJAGoAaAB/AG0AXgBDAD8ATQBgAFsAUAB6AIAAZgBmAFAALAD7/w0ALgAwACEA7P/o//j/BgDy/+L/0v/x/8f/k/+Y/5//jv9y/5z/eP9T/z7/Sf9r/4b/mv+J/3L/Vf9T/0//Yf9c/zX/If8y//X+7P4O/xD/IP/a/rX+p/6d/qj+x/7Q/tr+zP64/rj+nf6T/p3+qP6z/n3+Xf5u/nn+kf5x/nP+YP5S/mz+av6C/on+ef6T/pL+mv7G/qn+r/7V/tb+3f7z/iP/PP89/yf/CP/t/uP+yv7F/tj+tv6Y/mT+Zv6N/oP+bv6C/nP+b/5w/lz+l/6J/p7+qv54/oj+ff6g/sD+o/5//lL+Sf40/iP+K/4Q/uT9vf3e/Qz+J/4o/iH+Df7+/fP99f0K/gD+Rv4y/t395/0N/i7+L/4h/jb+Of4Y/vj9Lf5h/jD+IP5D/m/+cf5a/lL+Zf6B/of+hv6M/ob+gv5z/lD+Of40/kX+Pv5T/kL+Cv7c/c399P3+/QD+0/3F/db91v26/dD96/3o/cf9mP3D/bf9nP2e/aL9nv18/W79pP3a/c/9rP2Y/ZH9of2d/Z/9rf10/Wb9jf20/cD9uP3C/c79//0I/sX9wf3U/dH92v3E/Zn9e/2N/aT9zf23/XH9kf2E/WP9gP2H/Zn9jv1f/WX9av1I/Sr9OP1S/Wz9Uf0q/UT9dP2A/XL9Wf1h/Vf9Tf1S/VX9b/1u/Yr9sf3K/a79r/2//cr9v/3G/f/9JP4S/iL+J/4V/i3+I/4o/iz+O/4v/if+Nf5N/n7+eP4x/hr+Ef4o/j7+Rv47/hf+Bf4R/i7+TP5p/lL+Wf5e/mj+b/5y/m/+Sf5m/qT+nP6o/o7+f/66/tL+/f4Q/yv/I/8I/wf/Bf8L/x3/JP8g/07/Rv8k/xr/Lv87/0f/Uv9I/2H/iv+i/8r/3f/b/8j/tf/C/8H/3f/k/8f/tP+2/73/0P+5/6f/s/+f/5H/cP9f/3D/if+o/5T/kP+B/2//kf+P/4f/cf9c/0n/R/9e/2//fv9u/2j/cf9h/2H/Wv9Z/4D/l/+U/5L/mv+z/8P/3v/8/+n/3f/R/6P/qv/A/9X/5f/Q/woADADR/9D/yP/p/+P/n/+n/6n/rP+//8j/+v/m/9n/2/+6/8H/zP/m/9L/vP+s/5L/ov+f/7b/u/+E/0j/Gv8h/xr/Ff8z/x//Ff/7/u7+Ev8n/z//Ov/5/t/+5v7p/g7/FP8c/w3/9v7p/vT+B/8J//j+4/7b/tn+8P4S/yH/C/8m/xz/BP8I//3+F/8g//D+8/7X/uf+3P6y/t/+3v7t/r/+lf6V/qb+tf7N/u7+//4H//3+Cv8o/03/Z/9r/1n/K/8u/zr/Qf9z/3f/eP9z/1L/Wf96/4r/g/+a//L/AQDo/+b/CgAOAOv/8//8/+H/vf/g/9P/s/+5/6X/mP+U/5n/i/99/3D/ZP9x/33/eP9n/4D/p/+d/6z/wP/W/9D/uP/T/8v/vv/G/+r///8DABMAFQAoAGUAbQBhAEIAIwA2AEMAXwB6AMAAwACOAK4AvQDhANwA2gDkAL0A1AC6ANYACwENATsBOwEjAUYBTgFBAWABYwFcAUgBUwF8AVwBjQGtAYcBhQFhAXUBcAFqAXsBVwFVAVQBSQF7AYUBewGJAYUBmQGFAYkBtQHIAdYBtgGoAasBsQHbAfEBDgLWAbsB0gG7Ab4BwAHjAd8BxgG0AaYB0AHuAc0BlQGGAZcBlgGUAaABkwFyAVUBdwGyAcgBmAFqAXQBgwGGAYoBnQGFAYgBlAGrAawBtwHfAc4BwAG1AcQB7gEpAvsBugG7AbcBqAGsAbgBuwGrAXYBdQGDAXYBZgFaAWIBVwFGAUQBOQFBASYB/gDXAM8A0ADCALMAwADFAKQAnQCsAJYAtQDaAKQAwQDQAOEAGQFDAVkBNgEiATsBLwFCATMBJAE1ARQBFgEWAR0BTgErASQBRwE5ATQB7wDtAPkA9wASAf8A7wAFAeEAnQBEAEsAYQBgAEoAYQAMAJsAKwEeAI//zP+0AE4AIgF8AZP/Pf93AC0BfwFFAQoBrADj/50AJAElAQQB+QCvAG0ASgCWAAcBNQEDAXgARwBxALAABAEqAZEAVwAnAKoACwHxAAMBggBOAJMAswC9ALQAcwBqAFAAiQD3ALQAtADpAJIAswC8AKYAzACoALgAwgDbANQA9QAWAegAtQC9AOgA8gAEAQwBAAFHAVQBNwGKAVcBNAFDATcBWwF+AXABdAFYAUUBaAFsAY0BggFTARwBDwFIAW0BjwF1AWUBRgEmATEB/gATASkBOQFNAUAB2QDFAPcA/wAxAQQB4wCzAGwAkwC2AKkAmACQALYA3ADtAKsApACuAJoAqwCYANgA2QDRAAUB6wD9AOIA7wA5ARoBIgH/ABkBXgGBAXkBYgFQAXMBtgGEAbkBywG/AesB8AEOAvIBKgJtAjwCiQKEAokCcQJxAqwCawJqApsCkAI6Al0CiQJfAkMCXgJ8AmkCTgJEAlICWgIUAi8CSQJsAngCRAJnAnMCfQJnApMCkQLBAvsCtgKmAuMC0AKnArwCuwLHAowCagKSAmkCdwJXAh8CTwJtApYCdgJCAjMCMwIBAhsC9wH8AdcB0AEyAsABswGhAbMBqgGbAbkBmAGRAXMBaAFuAVEBMAE1ATsBLAEjAfwA5gDTANYA8QDTANAAtgDSAMgApQDDALoAzAADAY8ApQD5AKkAwwDDAM8A1QAIAfcAyQDlAOEAoAB/AE8ASACCAFcAMgAkACIAfwBEAOj/OwD0/wAA/v/S/9r//P8oAA4A9v/5/xgAEgADANL/uP8JAKb/jf+S/3//mv96/6n/RP9f/2n/Yf9e/0n/bf8t/z//ZP8Z/xr/G//y/vz+3f7o/q/+x/4c/8L+z/7N/sb+/f7J/qL+s/7x/u/+rv5m/p/+/P7v/hD/KP/o/uP+7P4R/7j+r/4A/7X+1v7Z/un+CP8Z/8j+v/4D//f++/7f/v/+5v4O/7j+3P44/xb/cP8I/zP/E/+x/v7+Ff/3/iv/N/85/1L/D/8m/xz/Jf9Y/1//T/+i/4L/bP+J/27/p/+u/6r/3P/6/+v/0f/k/2MATADI/+X/AQDf/ycAKgArAEEARgBgABoADABhAFkAcwCMAFwAhAA7ADsAswC+AMQAjgCIAKoAngDEABEB2gCEANwAnQDdAOoAHQFeAdYA+wAZARoBEgErAfcA+AA6AXkBSwEzATcBQgGAAUQBHgEVAf4A6gAaARIBEwEZAfIA+wDwAOkA5ACDAF4AjQCtAOkAyQCHAGYAngClAJUAiAA+AGwAXgBZAIwAcgB7AHMAQwAyACoAJwBEALYAYgBrAGcA3/95AHkAmgCBAF0AhACeAHoATACrAJoAywCrAB4BzgByANQAWgBWAHcAWwA4ADQALgDy/xkACwDN/wgA0v/v/7v/6v/h/5//9v8FAOP/0f/i/3j/o/+p/6L/Rv+B/8T/Wv+g/07/Vv93/0n/Iv8x/2H/J//1/qv+5f7u/h//O/8U/xT/AP8Q/+X+JP8F/+X+3P7h/tj+yv4B/9f+v/4M//X+rv7b/pr+5v76/tf++f7C/tL+vP7B/rb+6/69/sz+Pf/4/hn/+/7o/uX+1P4M/77+mv6//nn+wf7O/or+xv6Z/pL+4P6T/qj+wv52/r7+bP7F/tn+z/4J/7r+7/6a/sf+Dv/S/g//GP/H/vj+NP+K/4X/b/+a/6n/qP9i/5X/f/+Z/9X/rv9w/5X/sv+z//T/oP/w/xMA+P9tAFcAQAAFACYAUQAxAF0AZwCOAFgAhwBoADQAjQB6AD8ANQCmAEUATwBoAHMAhgBvAOAAsgCsAJMApACSAOsA9QC1AO8AlAB5AIQAZQB4AG8AmACgACwAUgAkAG4AZgBLAH8ARwB0AHsAYwCYAF0AVgBjAFUAzgAoAEwAdgBdAHEAdgBdACUAQgBEAE4A/P9LAGAAUgByAGAAZADr/wQA9P/P/1wA7f8EAAcAFgAeABEAewDq/xoAWwAsADoAUgA3ADcAYQAuAFMAmQC3AH4AjQDgAKMAoQAAAbkAyQA4AQsBRQE1AQUBBwH9AB0BFwEuAS8BvgB/AK0AFQHXAJUA1gCdALMAkQBWAGoAoQByABQAKgBQADEAqwC7ACsAfABqAIMAYQBxAF0APgCTADwAggC2AC4AqQDSAH8A3AD9AB0B2QAHAdgAoAAcAd4A1gDrAM0A8wCWAJ0AwgCfAKEAngCgAGYApQBkALsAdwBIAMUAkwBbAFAARQDr/2IAIADX/8P/zv/g/5T/vv/u/9v/1f9//6H/DwAfAAkAf/+e/9f/zf/Q//P/PQAHADcAIQDP/+r/qv/1/y0ALwAnAFMAJwAeAHD/Zf/r/83//P+1/wAA4P/i//z/of8TAOT/zv8dAMX/jf+y/73/4P+b/0T/CgCo//X/4P+I/wQAIACy/7T/AwC//9//xf+z/9z/6v/t//r/xP8EAHn/0P8UALr/FQBMAEwATQAwAH0ADAASAHsA8P9QAOT/DgAnAOX/kP++//P/jv/Y/8f/FwCR/4X/2P9+/6H/jv91/+T+J/+//47/Nf9N/+/+8/4D/9L+9P7p/kb/+/77/uX+Ef9C/xT/9/7e/vH+B/8z/sD+Rv+N/hL/+v5J/xT/8v7//sr+9f7t/jv/O/8k/0L/eP+z/2T/YP+N/y3/Rv+m/4n/Qf8d/07/kv8H/zT/dv9Z/33/c/+G/6b/3P/P/+b/7//R/87/xv8rAFUAHQBoAOP/4f85ABUAQAB2AGMAMwC7AMsAdAC2APgAzwDaAG8A7QCLAGMA3QCuAEABCQHHANMAOAHmAMwAFAG+ALQACAHoAPIAJQFIAToBXQEXAdUA5QC1AOMAyQDKAJMAHgEUAZ4AlwCwAJgA1AC3AJIA6gAFAdkAeQBpAEAAuwC/AMgA3QATAfkA2wDSAOYA6wD/ACQB/AAfAX4BhAHdABEBGwEyAf8A5gBeAVIBRQF1AQgB0gB9AWAB/AAHARYBbQHIANAAcAHuABQBBQH+AOMA7QDkALsAsACvAEwA8f9mAFMAfQB7AJ8AjgBsAKkAHwBPAFAABABDADwAfQB/AHcA0wCdAHAAswBuAJoAoQBYANEA3gDbALsA5wDrAIoAngBAAA8AZwB+AFQArgACAdAAjQCjAH0AdQCrAHsASgAuABcAYAC1AGcAXABlAE0ASABkALoATQAAAAUANgB6AEIAnABcAC8AGwAqAG8ApQCOAEsAtQBiAHAApwBCAEAAxADBALQAzgDtAAsB4wC9ANEAIQECAfwAkQBUAKoAtwCzALIApACrAMoAtQCaAHoAcgCGAHsAbQC1AOsAvQCtANoAoQDFAI8AQwCvAFYAKwCgAKoAewCDAE8AuAC2AKAAsgA0ADMAcwBUAHEA8wCCAO0AIwG2AOUAWwFmAfQA2AAkAZABdwGFAYoB4gGfAYgBngG2AdkBtQHqASECJQLqARIC2gEDAgECGgI/AjkCMQLcAf0B+gEeAtcByQESAvQBHgIdAsEBAQIxApUBkAHQAasBeAGcAfAB8AHdAccBgwHXAQcCuwHAAY8BWwG7AZwBfwG+Ae8BPALuASwCAwLtAcwB+gEQAkICawIIApUCbgKeAjACRgI2AoIB7wHVAeYBtAFnAfcB8gFvAXcB1gEFAtwBXwEkAXABdQGxAWEBIAGxAXwBNgFaAS8BmQCuAHwAXQC2AMsAtACWANAAugBgAKkAlgAcALEAQwCIAOIAcwDKAPEAbABoAHcAVABwAIgAigC/AOUApAAAAaQAnACKAEsAkQCFABUAMgAYADsAMwDL/+7/EgCq/2f/d/9Y/9P/nv+h/47/YP99/2T/Y/9k/xb/Tv8a/83+sP6y/q3+o/7R/sb+q/6w/s3+hv6K/jH+m/6I/qj+s/65/tD+hv6g/pz+sP6K/rr+0v4x/x7/Hf/Y/rr+e/6M/qX+g/7E/qn+6/6t/vb+0/6g/s7+z/7U/mz+V/41/l3+pv6O/vD+4/6F/sv+zP6N/mH+V/5N/qv+oP6N/rL+rv64/m/+zv7J/j/+YP6N/j3+QP5m/nH+b/7B/j3+Lv53/hb+PP4a/mX+Cv55/jr+Av53/mL+z/30/YL+Fv6d/qP+SP4t/lf+lv5+/gv+k/49/mX+8P58/o3+9f7g/n7+5P7L/jf+Cf5m/iP+c/6X/nr+Av/e/rL+s/5g/k/+WP5X/oX+jv5//qT+Uv4b/ir+OP6H/iH+GP47/lz+uv6Y/jn+eP5y/rP++f7V/i7/av///gP/bP8V/3L/TP9m/y7/D/8Q/0n/tf9s/6r/Vv+N/2f/qP95/3D/9f9//w4AjP9m/6r/MP/R/+L/kP/h/+3/iP9r/yj/Mf+q/6r/iP+r/8f/v/+Y/4f/c/8X/xT/+v4h/3H/QP8P/3z/iv+z/9H/j/+0/3n/f/+o/xIACQDa//j/8f8eABEA3/9hAA8AzP+S/4b/dAAjAB0AAgDu/+r/v/+p/8z/KAAWACQAUwDT/+j/4f/R//L/t/8DAAoASAB8/6H/VADG/5z/bv95/9D/O/+r/3z/g//C//T+dv9i/5j/uv+c/6//iv/T/+H/bv+N/4X/Fv8J/zP/Df+v/6b/hv/e/87/1v8WAOr/Wv+N/6f/IQD0/y8A8/+y////5f/B/6P/Rv+D/27/8f4e/3P/xf+h/5j/a/8C/9n++v6w/t7+4P5A/+v+Of88//z+k/9h/xT/wP5N/z3/Tf9a/1j/if9o/3L/if9v/6X/t/+Z/3//Ov9M/4b/yv+o/7T/if9o/zz/gv9r/1H/zv9k/xL/Lf9N/9j+Cv8X/xX/5P7f/mr/af+A/1//Sf9b/xn/H/9S//7+Q/9B/xP/R/8//1D/e/8p/wD/DP+1/pX+5/7X/nn+3/6G/lv+Vv6T/r7+KP51/pX+3v4I/5P+Zv6d/mz+cP6f/tr+/f7G/v7+1v7d/gD/8P4F/x//wv7g/u7+8f4I/9T+6v6r/rn+j/6W/s/+2/7u/ur+6P7f/tr+5f4D/xz/B/9R/1D/d/8+//r+d/9M/zf/Rf9p/4j/Yf95/9j/mv+Y/3T/aP8//17/lf9h/33/7v+p/zD/Vv8m/3//Jf9k/3v/ov+0/4P/0//y/yEAAwDl/87/UAAXABAAPgAwAFkAdQBKACYAMgBjAFAAPgBiACMAMABPACwARQBQAEsAjwBvAJQAWwBNAIUAngBWAAcAWABiAMUAhgA4AKAAWQCBALgAIABfAGUAAgBfAKMAyQB2ACUAvAD9AKIAUgDw/10AgQBIAFYAgAC1AKsAvABKACIA7f/U/4v/HgCNAGoAOgBEADIA8f84AM3/IgAxAPv/DAC0/8v/dQAMABMA2v8XAF0Atf8IAO3/mf+n/+r/8v/B/9z/0f+0/8f/wf/1/9f/g/9N/5T/jf9w/2H/u//n/33/i/+j/zD/I/+A/1L/Wv8+/0D/gv+//4T/uf+w/0L/cf9A/43/c/9l/9X/qP+m/47/av9E//7+f/+J/wb/OP92/3r/8v74/jn/Ev9s/xT/5/53/xz/Tv8t/w3/Jv80/y7/8/4X/9D+/f79/vv+3P7O/vP+Ov8q/+v+4f73/tb+bf94/+v+E/8v/2j/+P75/ib/R/8A/xT/AP/C/mn/O/8x/yf/y/4W/33/tv+x/6n/Iv9D/2H/L/9E/2b/lv9c/2H/J//N/hz/Y//c/g3/+f78/nb/VP9w///+Dv9r/zj/Mf8h/4X/Kv/3/i//If/e/3j/R//l/2L/cf+W/3b/0//t/9r/pP9//8//3/+x/5X/bP/d/5P/sf+5/9H/IQAOAL3/vf80APT/IQDC/6L/6P8hAA0A9f8cAEEAfwB8AM7/+f8JAO3/6f/e/zEA5/9iAEoAAABiAIwAaQBkAAMAIABwAKsAiwBHAFgAjgDWAKEA5ACZAIAAYQAhAD0AKgCVALoAegCWAJgAXQBGAC0AoQDYAOMAugB6ANEAlABUALUA4wDSAP0AgQCoAPIAMQEPAUAA4ADhAGcAqADqABgBIQFAAaQAagD4ALQAqgDJAKkA1QDcAPQA1QCCAAMBvADiABAB/wA6AfIAxwDkAO4AuQA1Ad4A1QDDAMAACAEMAecAzAAuAagAYwDyAO8A6gDkAL4AXAE9ASEBzwC7AOEAtQDVAN4AJwH0APYABwH+AAIB1gAVAeYA9gBIASYBNwG+ANsAowC8APsAggDEANwA2QAvAewAggCUAKAA6QD6AAYBEgEhARABKQERAe4AngC0AJEAzwAPAX8ArgCxAOQAeQChAJoAhgDpAA4BpgAgAIgAGwA2AHgAUQDF/+f/RwA/AAQA+P+KAOH/y//8//j////l/1QAiQAsAPr/cgAvAAMAGQC2/8//KgB2AGH/1f9zAAYAXADV/7b/uf9VAAYAPwCdAKL/SP+f/0QAJQAeAKn/Xf9W/zv/l/9ZAEIASv/X//z/xv9DAA4A8f8gAIwAmABcADoAGwAAAI8A4QBNAEEAdgDfAM0AdACcALIAygCDADUAhgCYAOr/FQALAIP/RQC//2T/t/+P/xP/Mv+f/0D/g/8W/1z/mP+R/3//D/9u/3D/Z/9v/1H/Lf8a/zb/Wf9I/2b/Tv9y/xr/b//r/93/7/9a/6P/S/9d/xgALwA6ACYAW/9V/2//GP+F/43/p/+Z/1P/C/8F/4P/Sv/c/iH/CP++/mD/tP8D/+L++v7k/nj+Av/S/iD/3f9G/zj/7v7d/mX/If/2/oj/Zv+7/7D/7P9L/zL/TP9S/4f/WP+g/2//j/97/9n/CADH/83/1v+z/1AAOACw/1n/9f8aAFX/y/8tAHcAYQBEANH/xf8mALz/N/+v/14A8f++/wAAHAAuAAEA6P9iAB0Agv/z/xcBswCdAH0A+/8YALL/EQC+/2IANAAAABsAVQDDAKMAZQCn/z4ADAACAFQA2gDRAKcAlwCDAJAADAHcAGcAxQDt/xYAzQCsAEIAzQDzAIwAjgDBANMA+QCCAHUAgACeAHMAcQDpAH0AuwBIAK0AjQBpAGQATQBtAFMAbQCDAF0Aev+0/xIAPgCJADUAeACeAN7/GQBeABUAXgBSABUAOwA0AI4AfAC0AHMAGQBSAAsA3/8oABgAVgBOALD/9f+y/yYABgAfAMcAUAAfAA8AGQAxAA0Ahf+6/wQAzf8IAFYAnwD2/7X/sf+C/93/5v/Y/wUAFwDu/3QALABYAAAAjf/m/0UAXwA4AHwAPQA9AD0ANQBhAEcAt/8xACEAoP8GAJ4AFwBAAMb/AP/y/+7/4P8kABoAuv+y/4X/vP9sAE4AlP/6/+L/1f+c/7H/SwDm//n//v8oAMj/l/+o//D/Gf/b/tD/g//B//T/gf8h/6H/dP/y/p//CACb/43/EQC//0D/P/9w/4j/lP+F/9D/e/+T/6T//v7v/ij/ff8z/1//9P6p/y7/Y/4d/xH/tf8p/x7/Yf/M/vz+Gf/Y/pH/T/8x/2v/dv/4/rb+Lv+7/gf/+v7B/u39eP5S/4/+4v4p/0T///6a/vL+Qf99/0H/gf8L//D+c////lX/Sf/f/un+Gv8//zX/If+g/gP/HP/P/uL+Sf9X/x//Zv9X/6b/GP+2/jb+j/7m/hb/xv/m/nv+8P6A/w7/J//2/rb+kP8V/yv/jv83AKP/EP+L/xf/N/8v/8P/hf9x/0n/+/4e/2b/oP95/6T/Av+3/uL+dP8AAAIAjv80/1L/gf9z/7P/bP98/5//pP+X/9H/+/8EAPv/xP92AMH/6/88/0n/f/9L/3H/fP/BAIj/v/+n/1j/FQBUABwAav/c/y3/cP82AAMAawC6AGX/wv/Z/zwAXgCr/0YAkf9AAPP/EgAsAJX/yP/d//3/oQDeAFEANgDb/3cA+wCsACsAhABKADoAgABNAPn/TQBzAP3/VgDT/yQAz//R/wQA6v9xAG0A2v8JAJQA1wCdAPT/AwAPAFwAeQBGAYcAjABMAM7/VQAvAG0AGQCy/4r/wP9mAEoBgwD7/8b/O/+7/1UAdwCpALQApgBTAP//HQBc/7b/7P/K//r/4/+EAM7/T//Q/xoA4//U/7T/ov+R/9T+sf8fAIH/Nv9l/5//Uf9h/8H/rf/q/+7/a//+/+X/g/8K/xX/xv8Y/w//Fv9C/3H/W/+t/87+0P4A/8H/eP/2/r7/1P4a/w3/lv5h/6T/9f7d/mj/yv7n/s3+hv4z/w3/pf4y/hf/Hv8V/17/pP5c/8n/Q//J/g//3v71/pP+Cv/v/nP+L/+F/5n///4//5v+W/56/oL+T/6N/hj/RP8E/+v+V/4T/xz/uf5Q/5f+p/6j/k7/Xv97/zT/6v4J/9D+cv6g/ub+rP4h/yr/Qf+C/zb/0/6k/sr+Rf+6/5//7v4o/rz+Rf9m/43/mf8K/+/+rf6x/vr+rf9HAE3//v/c/6r/i/+L/53/w/+t/5v/2f/Z/7b/pf9z/wv/Wv+o/9P/PAArAK7/x/+IACYAGwBdAJz/NABDAPn/q/9lAFAAggADAKT/YgDaABIBsgD1/9v/QQBGAFUBwAGRAcUAGAFQAF4A+ADDACgAYQDJAKkAewHKALgAAwGeAKcA9QDOAOsABQG0AeoAYQEhAuEBOgKVAUsBqgAKAWoBvgE+AQEBIwGQAZ4BgAHkAU8BNQHqAIkAnAGfAXAB/wEvAbEBOgFoASACGgILAQYBdwGyACMBmAEKAvABygHrAWsBPwF7Ae0B4AHBADsBpQAiAfUBagK+AaEBcgE8AEMBagFoAXIBLgFkAcsBbgE3AVMBBALyAGABRwH+AM8BMwHtAAUBHQEhAcoA0wCYASgBzgENAUUByAATAV8BZgCdAakB2AF2AdUB3wB/AEMBBQFzAT8BkAELAXEAIwFfAU4CegHOAFcBZAEeAowBFgIkAu0ASAHkAK8AsgHLAQcBIwF0AYgAswDXAYoB6ACPATQBGAGhAfoBbgHiAF4BswHdAYIB+wDKAJEBoADwAM8B5wE4AowBLgGCAbsBLwLqAPEAvwFWASYB/AApAoMBrgEGAlkBOAEtAUkBbQExAWYBYQFUAUkBvwGcATwB/QEdAa0AQgFpAcYB4gHiAX4BXwH5AVcCmwI1AiIBMAFeAoYBJgKAAaQBWwH5AGACZgHNAZwBWgEXAfcBPQLdAb4BdQHOAXwBeAFGAbABRALKAakBLwGqAdcBeAHsAdcBIAJHAj4C6gH3ATgBmQGCAUIB+gEDAtoBwgFrAgMCOQLoAUYBXgAzAQYBTAFHAiMB3wCKAesBDwGSAbsBXAEjAUoCzgHoAeoBLwFWARQBWwFUAG0APQFGASwBOwGCAG4ACQFtATYB9QDxAKYAjwB1APAAUAACAWABvgAmAOn/twBPACABIQGnAJcAowDe/yIASwANAGcADwBuABoAAAD9/3oAeQC8AEcAKwA1AJb/agCiAGgAYgBwAKAAIgAT/8f/av9L/34A1v8YAOr/2P+i/zr/b/8z/5P/dv8DAAIB5wAcAPr/1/+IANUA6f8yABwAp/8SAHEApQC6/97+uP/V/8r/wv8CAFsAgABUAPL/CADw/88AHgHxAEIAPQDY/4IAdwD8//f/fv8GATUAXgAAAJj/twAMABD/jgCYAGsAGAEXAJMATgHOAfcAYAAsAc0AcADZ/58AUQG3AFMAtwDBARMAAwBPAMYAZACOALcAkv+T/1cA2QB3ALoAlwDhAA4AwAC7AEUAyv8XAGgBRQHrAH3+o/4UAHcADQA1AAgBmgByADUAkgAFAbkArP9r/6P/uwD4AI4ApP+u/+cAHAC0/0oASADp/q/+NAApAHAAoACw/x8AuP/M/0wA2f9J/6r/B//L/i8AE/9D/nsAAv9t/kH/+v5J/3IAAADL/hoAYf/gABL/aP8SALz+Jv/1/p//af/D//7+PgAiAA7/i/4F/nD+cv7G/gv+EP6n/hv+t/7L/4r/pv///rv+rv7z/nL/ef/U/rT+FP+4/QP/uP7L/nL+9v3B/Sj+bv7j/Wj+hv0G/9L8NP2X/gD+Ff+h/jb9t/3+/qX++/7a/UT98f3c/Ub+Jv4M/l3+sP0y/rv9Mv2o/ab9pP2q/lj+8P2//Yr93f1t/Un+Qv1E/R39O/1n/u39N/4M/ij+wP0Q/k7/Jf8Z/VH85P3M/On8Hv5w/gf+Sf2v/ev8ov2f/q7+IP7v/R3+N/7J/gj+n/7S/tv9/PzQ/sL+n/2t/oH98/7i/uj+hv6F/R7/Vv9j/hb/1P45/ir/Cv6e/nr/Hv/U/v3+pv64/on+wv8jAPH+I/8R//j///+3/x0Ax/6F/pL/sv/4/2D/3QAqAHz/k/80/y8AQACL/xX/vP+p/gb/6v90/2f/kf8H/1D/ov8YAKb/yQBKACP/yACYABkB8AGxAXYBNAIoAs0B2ACjAQoBMgCC/3j/1P89ALAAFQCC/zH+pP9iABABBAIuAAMAIACJ/1kB7QAuAkkCPwERAO4AAAJSAUcBDwGPASAAigDJAJsBjAHeAH8ARAFLAXIBigEgAfoAdgFpAqwBFAIWAbEBhAHsAeICZwHLACMBPwHEATQCIgI/ApUB7ABMAIABWgESAr8CfgEgAbgBNgIgAu0BOgHBAVIBvwEcAlUCOAJ+AcsBZwLAAJMAcwHA/9IAggE0AgwDuwFrAWECqgIOAlIBwgCUAuQCKAF6AKoAqgJZApYBTwH+ACUBvgBjAAQBWgHyAUoB/v81AXwCXwFsAGwAaAAfAkkCegEWABYArACBAKcAoACRAGYBywEvARYBLALXARwAgf8DAFsBAwGR/9P/LwAmAH4A3/8hAZ4B6QBMADMASgDB/7oAgAC7/+MAuQABAO//x/+u/0z/2/7B/l7/c/8Q/7/+I/+0/4v/CgCmAN3/6/7J/6sAfABsAH0AHwFS/83/tf8s/7oApv+TALL/a/5X/33/t/7N/l//a/8N//z+Mv4m/gL/ev6b/0r/4f5o/p/+Wv9f/kf/TAB+/+b+Lv9X/3n+Tf/I//D+DP/0/mP/eP8TAHj/RP71/fH9Uv6j/g3/p/8Q/9/+8/5r/v3+Yf9N/9f/Qv9x/nb+sv2W/i7/Y//M/y0A6/8W/gj/GABv/7H/zv5M/yEAwv+L//f+Lv7o/VP/Xv1E/Wz/Df0M/r3+dv41/3//Pv8X/zr/KP6Q/0j//P42/wwB/v+J/08AdP5qAGoA9/6q/63/u/6O/hH/Zv/d/cD+z/40/qL+pf6u/xb/Ev+n/hT+K/4y/8r/cv/AAKX/8P6N/rT+qv4L/0T/6f4IAKz+hf5n/V794vse/WUAoP+Y//X+Vv5p/tf+w/6M/5H/c/6Z/tX+MP4v////bQDc/5T+OP8IAKv/Yf8oAJYAwP/R/tn/PADh/jf+BP/t/13/Y/8TAGsAZwH8AIABrwDC/7b/vv/RAFcAQgCz/3r/lP84AIAAGwDY/vz9Ef8OAOL/bf+7/oD+V/43//j/0P/aABYACwDM/qX/hwBH/2n/QQAeAWYABwEaAB8Agv+y/sv/3//u/w4A0/+h/1gAzP8qADsADP/H/8//a/+0/6T/5f/9/cH9oP3I/SP+U/2u/rT+JP5S/Zz9PP5K/rz9KP4B/rf9Df4E/5D+Nf81/wb8LP1c/ggA8P+P/9v/swAR/6j9AADc/oX+S/8q/6j+Bf+g/hH+Z/02/E78q/10/ib/uf7i/K7+cv8y/nD/KADC/RP95/2O/PL7Mvwf/S78bP2a/dn8vfwI+lv66fpE/Pn6BvwW/gn+c/2p/CX8qfuz/B38lPxX/av8zfwy/an/Of8S/ZL/jvva+mb9VPxJ/KX7u/mR+nj73viv+h77Cfq1+Ij3XPgm+Ir7rfsy+6f6/vgH+vr4EPrx+dP54/rA+zP8h/xS+i/7Gfzr++D7LvgC+FT6If3T/3j/lfyq+uz58/o+/Gv/HP8d/4f+rf49//7/fwCa/wQBJf+Z/mL/iABgARYDbwLTAXoB9wBzANT/rwFcAvkBmQHZAKkBZAHKAbgDWAKJAvoAagCKAioDXwIuA4QDhQKYAn0DTAPUAWcD3AQyBooGbAZkBi0HPAjrB2kJ3AeHBTEHUAbSB3oIrgfmB+gGRwbxBQ4FfgPrBIEIWwyJC5wKBwf7A+UE1gUaCJEIpghrCnkKbwpkDYMOxwyBC1sIXwWWBqsHPQpZCz8KSQk9CBwH6gY/B0UI/AjfCI4I4gnYCn8KIworCKQH7AZoBT4EOgf6Ci0MNgtUCa8GiAbyBpEEWwQZBVkGpgfPB8UIcgd7Bo4G8AWoB/cG9AZ9CKQJhAlqCYcJcQg0BQcENgQNBU0HCQhDCTEHWQa6BMICDwRwAwIDRAViBvEF4AasB9UGhwRGAw0CWgMbBBUFHQbLAhwDAgT8AgACJgEk/8AAnQM/BJkG2AfpBhIFkANKAnQBNgHgAIX/IACwAj8F/AWABWEExgL+AYkB8gGCBGUEFgK6ApoDbgT7A/YBowC1/+j+a//9/rD92f8WAb4AxQJTAo4B7v+9/jUBNgHnAqYDigOdBHUCgADs/wIAmv8I/Qn8L/4tAE8CJQHY/mr9hfuC+hH9s/86AJgCvAP6AswBlwA4AUgCuwHzAHb/2gBLAaMB9gJYAZcA4//u/eb+8v8WAfYCSwLRARb/b/yx+2j+AgLfAS4Bf/+B/fz/VQI9Am8AbQB6AU4BxQEi/1f+7f9LAZ0A+gGUAt//PQGT/5T+lAAHAhcC2P/j/xX+nv3gAH8CMgKUAo4BI/6S/GD99v2L/4EBuQHrAK4AJAHT/9H+l/7VAH0BIgDJAOb9yvwk/rz/8/9P/q7/qPzM/G3+twDOATICSQSvARsCvQBuAKsAfgE/A0QDyQOCACb7NvqC/LUA6gO7Agn+0PvN+xn7Rv4eAS4DBwMc/6j63vhL+xcAfQQWA9n99flf+RT9GQCpBDoEYgBP/tb7Cf3M/ZT/kgBoAOL/ev2z+m75G/vL/W3/MQFrAOr+vvwz/F38ifyp/6gAk/+t/jz+o/wV/gf+tv4IAN7/r/43/hT/Sv6D/rj+Qf2L/VD+HPvW+nP7Yvve+1r9yP48/gr7cftO/LD7Uf4WAPgAdAAPAHP+W/6R/e77Rvwu/N78nv5G/8z8/Pvl/c3+RgGIAtP/JP2B/Or8WP2n/2sA7v8I/0v9t/lJ+WH8pfx9/F38DfsG/PX8Jvt//Jb+Mf9O/rn9Ffw//u/+Lf6L/XT8kf5F/0IB4v7D/Tj9AfzR/Af+vv8H/5T9Rv3J/cr8l/5y/y//YP+D/XL8k/uf/m7/MP+j/oX8k/rF+K35XPsd/5r/1v1n/bX6n/lt++37fvzN/Aj+U/7b/sv9Mf2Y/HL8H/8B/pD8GPxz+2f90f99/wv+yv0Z/+r9t/0Q/hX/fgGxAK3/5P8y/ZT76fqU+l/8gvyD/MP7rfue+of48flt++X8X/4p/Ar6ZPqh/If9Wv2Q/m7/iP/j/cH8IvsD/dL/1f1a/Dn8F/1y/rf/KgDi/qz8hftd+Qb5Nvo8+/j52fr0/AD8G/7l/bz96/4b/jb9xv6lAN7+x/1Z/pL/6P8gAMUAIv9r/bH8I/4g//3/s/+4/5j/dP0r/Pf8B/+E/Vv9Z/36+0D6u/qs+mL9a/76/KD8gfog/f/9GwH5AUEBPgA8/h79U/4BADwA/gK6Al//g/4b/2P8Wf0q/ysALv+0/M76uPsI/RT/4/4g/hb/iP4F/QL85/5u/zQBUAE2/6X9Ufz//Cj/rQArA/8BOgCU/kb83fwL/+z/x/0S/vv84/x2/W37cP03ADz+1f6m/w7+9f3M/qn9Iv7F/qr9J/2T/67/+QAdA7UAdP+k/mMAZ/9Z/W36zPvq/VMAbgMEAR79jPqd+jD9RP66/80B5f/Z/Nr64P1tASsFPwTSAYX/fv+//gj+aQE1A68EGQK4/ir9NvwG//gBqgSBBEQBlP5M+Mb2lPgu/aoAY//u/Yr70vbr9rT65P73ACkBagDw/Z79Jf10AMIDIQJG/3784fvi/vb/BgJdAwACtP7x/IP8pv+GA0AFbASB/e34vvseAh0CrAC2AJAAtf0h+Uj5FgCFByoFM/6j+WD4cf2G/q77h/8RA4cBAPyS+JT7qQFbBRsEZf+s/Nf8t/7k/34AuwIwAQ7+jfrK+WL7l/43A1gBv/54/Mb7Yf4Z/sf+NQHWAwIDWwAr/938b/1iAKwAKQCE/5D/3f4Y/fj9FQL0A0z/fPuD/DT9bf4xAVEBUgHlAI4AR/+g/gkAqQFyA7cAB/38/JH7jfxJ/xUApP4//Ub9j/zP/cr/gwIfAYH8T/mG+Qf+OwKFA7wCdP8s/rv8HP0KAar/WP2y/Bb/yQCJAhgD4QK3BK//NP15/ZD9MwG/AWcAr/uY+ED7wf7MAI//pf/z/vX+n/5D/Bj/VAHZ/+H9c/sF/WUBZgJTACn/tf4t/lz/8v/v/hEAKwMUAp4A1gDBAagDwAEr/nT81/5j/4X+cQEf/4f88PpX/XAAaANOBfP/vP15/AL85/4LArMC8AGD/kkBpwNZAgMBRv6O/uv/mQCP/s3+dgBmApIE5//2+1L+cAHVApf/6v3Q/cb+gv+L//z9v/31/mUAzACw/Wb+NgAzAPv8+PpP/f4B/wJ6AMwBqwM8AcH+8/2rAB4FXQfBBIj7ZviE+6AB6AW+A10AMP0R+y393v8lA74DgwJ//4n7Ev4+A/AFaAYNA7L91f0L/usBQwQSBU4E4AD2/gYAVwHMA08GtgLI/WX6MvsBA1IJuQb2AT394f3wAK8BSAJWBXcEngAj+q/3Gv7uBRsJkgN2/A772v2ZAxgFgwFe/nL9Qf/VAGQEuQQkBaIFWAUfAo4AC//XAK8EvwNrAsr+e/7RATcBYf9s/9QDeAcdAb382v1UBP0GoAHr/FUAsAT7Al/+ivxEAMEEaAST/v38rP3G/1cCwgAD/0ICVQTGBLAD0wCVAsYFugVkBE8D5P/KAv4GwgQNA3oBiALwBTsDRf+GAaIFVAVUAJr8u/4EBrgGdP47+ocBqQfgBa3/kfvP/lgCRAJE/9f+0QB8APz+AwD4AuwFPwZ7Avr+KAFIBh8EQgDP/lz/lQMSAZX/PwEaANoBWwLGAxED2v/3/9gAKga4Bj8AOvxi/GUB7gME/6j+8wAgAi0CHv4NADEDdAP2/nz8jAAcAxQELQD//T8BGwSOBWoAxvu7/X0AtQOVAJD7Zvqe/Hn/5/+d/4j7nPkI+xoB0QOpAGv6qfhTAXQFpwIU/pb+1AMlBo4Bcf2E//IBIQIoAKf8MP8yAev8Ovsf/rYAawDX/Y/7uPwu/+v/Qv8V/7j+xf0q/tT8Z/xM/3gCaARkAKf+dgB1AnsB5f4jABEA3//B/kT/HwRfBBr/rP14AmEJWAlxAi/+twBYB+YKgAMN/A4BjAVdBjQDWf1k/dUC0gOu/oP5JPuWASQETQLV/sz88vul/qcCRAV5AoP9y/r1APwHvwTZ/8z66v2UBboFhQAL/fT+LgS0BVkCZP8W/+oAyP94/pr/EQHtAXT/wPxS/LYAkgM0Abv+uvxi/m0Bs/+4+rn5+PsW/zgAbP5F/Mb6LvxR/28Azf2V+zn9jgCSAd3+uvwW/ZX+tf6Q/qP8lfy8/Y39mPwt+xb9d/sR/f/9gf+sAe3+ovwd/P79CwE2AXr8P/x7/uwBFgBA/Ov86/99ArYA6P7N/RYAUAQ2BOMC+wElAZADsQUQBmYFhQPcBTkJTweXA28A5wPxBWYDFAV8BT0EOQSOBU0HTgX4A6YElAY0B5sEggKuBQQL0AaBBOMFCAYfCJoFyQQ5B0sGUQTAAtsDDgQ3A1oBkv+z/zID7gOCAD8BigBd/9QBMAEY/y0AIf/F/oT+c/3Z/Er+EP55+wv6lvhY+YL5+/cM9lr1QPbl86vyUPKl8QzzjPMp9JnzCfPj8bXxzfFe8031ZPb99Pjw6/Ju9rr4TvaA8xv0Vva++Fr6pPk298v4QvqE/F3+lPww/OL9pP7+ArgG1AWaA2ACJwbzDD0OXgzCCegJkQ2zEHcSlhBhEfURTxXYGPoXBRjFF+kYvRt1HKgZDRo5G/Ub2x0nGwsa6xzTGqUYwxqzGtwaIRnSFUwWTxmrF6ISRA9vD+AOCQ11C8wHiga4A54Ac/48/Fn5cvWG8VntKeqf55DlJuQq4d3dhNpk2d/Ywtf/1dPSD9OA0g7S2dEM0knR29Ew07DSJtUa2ZfZWtnE3QDgkOHK5CHnsufy6fXsO/Eu88HycPTn9aT6F/0BAPX+of4VAaACEAipCncLeAtNC8UNmhDsFJ0U6hFbEyMWehu7G+kasRtbIC4ieCF4I7MmkysbLi0uuS40NX08nj4GPUJAgENVPusxpSouMO86tTz0LSEkNCoSMO8oOhS+A0EE8gj0A6/48fCP8NLtRuQu3M3WNNXI0SvLfMqIzC7Pjs9VzKDInMcAyS3KnsudzfDQ49JG2OLdot/O4aTi1+TO6CPq5uwG80T48vhg9snzL/ei/PP7bvm39433afeP9hP2LPZZ8zrsVej16y3vxu4E7DXo5uat5ivoUOm36mLsAuzi7EfvaPRM+AX6yPqN/AwBqQeRDVwRyhVeGFMd9CDFJL4qBi6mMqo2/TlNP0FHSk24T7NReVDXTBpFwD5SQrVLOVCmSMc7Azh+PBo57yscGmcP5QylCtEG1//d9xDwxedR3p7Yh9ZY08XLOMZixzDJvcnPyfHFyMHqvYK80MFGyT/Oxc4J0XXU2NhQ22Tcz98t5PnneetE8FH1HfnK+of7zfmz+Av5q/k8/Dz+o/0d+yj4kfav9l72HfP57j7t/+y87fvvce8S63roCOdh5RPnzurg7FHvM/Bh8SH1Wvnq/F//iwH7AuYIQhDRFmsbQR+NI7cmqCrEMKE4xT83RNJH7EwXVGdcm1ziUVREz0BkS61a91zMT2tBfj/NRi5HIzgTIZkTtxIvEpwNHwcYAC73k+k83YvWadfU1ZfOr8ajwVTCXsVxyELE1bw2temwU7Y8v//H2ssLzOfMuc0AzyXVFd1W4OTfnt21467vA/kq+vf1JvRW8tHxzPOV+e7/pgCe+DLxzfHM9tj49vUL7xTqX+xh7YXv9vIG8TPqpuLu4Q/pCe858Lzvn/Hz82/3NvtH/ksDBAZPB+EKLhNLHKwhmSdeK9kuEzSZOBY//EgRU+dYYV2RWFlL6UCBQb5SNWY1Y4lM0j2mRodWp02PLpgXdhMeEacLOwdQBm4DRfOH3cDMH8imyf7Hi8TswkjCYL8tvpa/ecAKvsa6KbzkwWLLVtQH2I7ZE9mB13DWPNh94UzrB+5G7Dnuk/M191L24fN28270/PMG8jbzcvfd+fPypOqb5trqbO+x7VXqcOZZ5aXlwOjp6iDrtOoF6v/qgO8I9gD5WfZw9iH7aAINCssOYhIoFE8Ymx1lI3MtXzaePXJDkkiHUjZdRWWza59z73wFfwBpxkHYKps4/WX/f05pIjgEFJkOlRQJEEX+rfQ88eLoOdUhxifJucsvxfSx5qPurdLDbNUk18rK6ro2tQ3CA9lD8h38K/af773uLPejALoMTBjgHA4aTxUjGHghPSX7GZUKqwBCABQFFQSB/dDxNuHmzy3CxcEzyJ7KBscwvLGwNqtwqKCqTLUMv7fGh8rby1DNVNH+1N7bluu5+S4FpAx+FJoaNR6GIcUk0TB2Pi5J8U8tUbZOdks2T4dV0F/iZ41raGzWa9VuLm2Zb3lzaXlib7k7YAyQAgcnll4NXfAhx+DzydDXsue241vUutBxy6O9HqaWojm0ucA0wru35bt51BjrWO4O4wbXo9im7+YMwiSBKd8cqgxSBUYNvBcEIdMtojLQLBsa9QNk/coCzgZ6//n2ufFH7wjf0MWHtxy6/sMzv2C1NrHgtEazjKTxl7GdtbDfvrzGy8iHyrPLlMcjy93ayPBW//AAMwG/A8MMZRMWFkcegCrzNHg5WT3QPbk8IzlSOSpFmFSnXaRY3E7nTEBTvFjCXa9i3Ga2azlrjWgxUuQgFAU7CJ83cWh+UTYSedqa0CzkavFf6cXixedp4QfGT6f8ppG5dM1g0yTLddFf31niZdvizlbQLOSP/lsU9hpfEWQAXfVR+C0GLBOtIZIrfCqZHcQBXvC/854EsREfEBgAHvLm5uTWgM3ayDDQg9O/z2rG+rzvt7CsyaGnoSWx6cRd0ivMJL7ft9W6wsXR1c/nOfXy+I3zjPBG9I//yg2OGpElxCznMPMx1i+/MfY2ykBDTZlURlmLV2RU51LeVn1fpWfhbchxA3Rib1RvlWCCOOIanBPwMjJlpmHGKCfqF9Hq4NX2J/gH6FLhcN4Wy3GrOJ46qZHEU9ed0bHKbMxdz7nO2spCzuvhufqFDDYQnAZb+TT1sv0hDPoWbCJMKiMsliWNDkD7xfsLDWUgQyRIFcMAKetb2QzV89qX5zXo2tZVxKW47raVsQupoar+td7EwMdJuZSqwqhTsYLCFtSD363jd9942+/diOn7+cMG1hEhGiUfTiLzISUk+SuUN0VDEk1fUbZPyUtbSXpQiVwuZfNnX2j4arZpamecZ8xr+WkXSXol7hvAM9dddFoCIj/qQt7d8+oFpfwE4oDWZ9gVy5Gwl6WBr7rGF9TdyTS+mr7zw7fIQ8tY0qjhevOx/Hb63PQI8R/2/wKvDvcSNhdmHZ8hpR3fCwv+1AQlGqgpUyQuDVD0Yegz523qge/N7UHil9FZwmG8vbs5uNexRLBut6K907qWrnajCqdMtmzGCNH/0m3Q9s+W0zDcCukc+PgCqgp5D+ASIhgKHTMlry/pO75EQUnTSVtI5Ur3UUVdsWOmZxRp6WZ+aPZoK2yRcGZy712xNf8hgCmvSTZelD6JB/Todu9eAakA6ega1ljXCtc0wTWnwaJmshTHkcmuvCC2UbkVv6DC58W20Hbhp+588aTuju0N8UP6DwaUDcYTIBxwIDsh0hdrCnUJOhgPKZws4h/jCk38d/ac9IX1XfgB9Vbl4dF9w4jAxcKBvbS2xbfJvf68jbDvotui7q8xvyrFG8RTw5bEmMehzr7aRed38Sz3MP1ABNQKnw9mF3QjYi+zN8w5DzydP1pFsEpjThlXtV+MYx9jEmD9YiRpomx7bttt2Wm6Vf42PSp6NAVN8VIzMvMHQ/RI++8CVfmA56jeid9W2Nq/GawgrnO+28r+xiW8NLgrvBDAG8E+xlTS5+D66sDrquil6KDuo/nQBeMMMxKlF4Ab+BlmEXULxBCqHnootST+FpYHu/yF+1D8P/0C+/zucuGR1tLOsso8xnrB78DxwT+/YrdNr0ushK71tr3AV8WRxADClMKByvHU3d3p5fXtqPbC/CkBygQTDDwZqSUTL7w0FjdCOA88oEQVUJRYClwvXJtdxWRTaetrgW+vchp1/G6cVgg6QDJqQY5XJlbJNdUNUPv6AdQHnP947rLi7N+r1nG/EKvIqmW7Kcjgw6G2zq3/sAq3erlSvpbJl9gu4uXgzduL3Rnm4PNVAB4IMA78Eg4VIRMvDyEO/hYyJi0soCZAHGYQpw3tDHAKdggaBpIAOvTI5NfWJdNO1OPR0cv8xczAZroRssGrN61FtYS80rwRuB60dLY6vTDFB8932KjeyOLF5Uvr+vQFAGoLixWLHSwkdif6KyIyxjlAQs1GZ064VPBU5VSfVwJcZGW6Zopg7GS1a1FtjVyGPqUuSTrdUvBTDjdNFYMFJwySEBYCufBu6rvqz+JezWC5hbYEwcLI+cStu023mre7uaS5g73XyQHW/Nx43IbYt9vI5sfxEfpl/goDrArZEL4QFgweDJkUFyHBJ/giDRgYEEwLmgq9DQURHxFFBJnvvt/B3V3k9OQ43K3QBMkbxRS+5baStvy72MEJwCa5ErXgt5e9K8RJzIDUBtrc2+LdgeWt8ff7kgMaC8cVuR/2JKEo7y3TOKpBPUkUUV5WPlu+W39cP2MdbeRyYXROc8lwX2QuUA1Bh0OGWq9jpk0gKZoOvw2RFhESPgHT9Nzxd+m50+67FrN3vqLMI8sXvhOy8axfr7ay+LddwrnOMNY51YjRWdD013Lm9PSQ/qoDLgcICjUM3wuvDfAWIiQuLVYr1CHpGGEWlhbHFnMbAh6FGOkJ9/Rn6KPqou/a7YHlu9o80TfHYb1fuBK9VsYuxki+VbWbrzOyQrgfwLLK+NEZ0hrQO9Ji2pLng/M//PMEhAydEHkTlxkpJd0xIjzyQXBCi0UJSWNNh1dTXmxlx2eAZRFmCGjsaaNhtFSlSmlKW1KlUxxFYy1zHMQXLhogFicILvmH7oXnztt6zjfG5cVxypLINcFgt6eyc7TvuOW+V8VGy/rMwcxkzZPRIdt65lvvR/SH96v63P9tBWYJIg5cFLMbZR80Hz4b/xi9GYkbLBvoFYYR3Q2KCn0ER/mN7mXpBOqS6ZziY9fryubE08KYwsrDLsJJv+u7ArnSuPC6ib9gxt/NMtSr1ifYgNt75aDzev+8BhkLFQ9SFpcf6SgYM0s6tUDpRjxMA1KcV7ZelWbsbSBvXWluaK9r0G0yaQxa501vTxZWHVMhQNIpTx13HE8b3A2C/BTxWuvq447WzMeDwhjFr8btwdO4GrMUs1+29bgxvVjDgcj+yzzNqc4+1c7fLeo48bL1RfpEAIYHSwzpD6EVsR06JFEmTSS2IsYkIyjgJg0hNxyVGZEZMhOaB93+HPqQ+En0nevu4bTa1dRkzmzK18kTyFPEsL7UuiW8zr8XwQbCeMfhzN7QKNPe1uTfeOqg88D5/f+jB/4MgBMVHaIn8TFEN485Uj8HSO9PhVTJWHtfvGeHapJnBWVDZmBrn2rJX8hR6kpmTcZQIUkpNp4jyRv2G6cXLwqL+QPvuOsK5ZDXRcsqxi3ILckzw0+7q7fNuFe7Pr38v1LFVMvpzZ/Od9IP2lHioeln7nLzmPq2AWAG3ggADIwSBRssIEkhTR/4HhYhxyE4H24bXhlXFxwT2QtEBJAAWvzj9DjunulH5b3dPdT2zKbLr8wkynfEI8CCv9u/o78HwVLFS8q4zUjPj9NK2nDhm+fc7Y73agDvBY8JPQ+zGXsm2iwdMQE4Uz70RfNLWFBoWAph8WU1Zili1WE/Y99hoVu3UldOI1DfUMNGbjTOJbUgnyHOHJ0MYfph8MbrRuR72PbMsMhVydjG0750twK077R5tiW4SLtHwKDE78SKxP3Hm9Al2+DipebE6oPwYPhy/n4CwAbNDWoWJhyTHZ4bNRvLHlojUSSKICwZGBcUGMYWHhGSBGX6AvgJ+f71XOxF4XHZINXs0SzNaMpiyIvEHsHbvrG+W782wDjC0MZJzfnQS9H107zam+Wz7yr2cfsSAjMJGw9RGJciTCv1Mfs2FDwtQ8BKL0+8VTNeI2P9ZKxkWmJKX8pb3FX5VC1Z4laiTc4+sTPqLlIpPyHaFusKEP879pLvFOmU4AHRhsRAxe7JY8mfvsqyiLBLuRu/Kr54vd3AxcaZyoXNc9C/1wneXuOf6pTz8/tY/uT+/gKLC7UUshkSHKAcAh0pHXUeKx/dHk0dhhiOFQ8UBw92Bor+zPma+aX2Tuyi4S7bctfo1JzPDcnUxaXFfMTuwbPAfL88wHPCo8Xoy2PSKNUh1rrc1uVu71v3SfteAkoMlRVSHFMiBCmNMcc6d0L9R+NNGlOGWFpfYmREZiBl1GRvZo9l+V7CVcVQFlTSVeVMETsULCEm6CPYHDAPBAJB+YzxX+bu2prSKM3kyGTE77/dvKa6X7eptL21oblpvlLCf8RqxszJUs+l1tbd2+OT6U7wzPfV/RgCDgYmDOsSxRi8HPke8iATIiMhXSB3IIkfZx5dGloVAhJFDcoFZvzw8+bwDu9d6Y/g29bK0ArOnctgyBTFBsK4vx6+J75XwCjCRMOXxszMhNT72RjdHeII6jz0rPwfBIkLmBOyG2Mi5ynWMXs5W0EnR0lLqlFnV/FcqWLTZtxnXGibaONmcGFoV1RPPE2rUtNRckT1MVwiaB0YHBwUPgY3+urxvumm3nvTxstWx6jDPr/lu2G7lrlZtU6yiLOtumfB38RWx1nJwsxw0gnZZODY5g3tw/PF+k0BMQU3CLsMQhIRGMYb+xxbHoUfwB2pGL4WrxjvGLcUVApRAF393/xT+HTvI+bf31PcDdgI0sXMSckbxc3By8B6wOa/374mvmjAtsX3ycDMUNDt1QreJ+bq7O/zPfpNAfsJgBPnHEck8ygmLj021T7aRTZMgFDsVC5a0lw6YPljKGehZsRjAV5mUwBNhku1THBOu0XSM+ElfB8wG/QTTwg++y705+0i48jXas+IyYXFV8JKvj+96buzt1i0UbWAuf6+38O6xszJfc1q0ZrWst1R5KXquvGY+Bz+UwJ0BfIIow4eFJ8Y4huTHYYdLxs3GCwYZhiyEwwOuAkTB/AED/yd8JXq2uYO4/Xde9eH0tXO28jZw+nDGsVMw6LAgMBuwkjGHcgXycTPqNfi3YrjFeoc8sn4x/36A4sOyxiVHmEj9SgjMPI2XTqTPulF90qgTaRQeFNvWKJavFisWR1dWV+vW+5MH0DaO7A+kUWDQpY09yNtGRwUOg+JB3/+gfVa7jnnSNwq1arQ+snMxWTD4MOxxuXEcb/Zuxu/ZcWdyhjPINPp1kvaO9zr3uvlzOyv8Sj3NP3mAuoF2AajBwgJvgtFD/YS+BNaEyMOTQcjAkj7APkE+zX87fgA7+Xi69tf2gfYLdV11HTT29AGzE3HyMVzyJHJj8sJ0inXi9nj2ZHa5d+z6Mbv7/Zh/mMFTgkFDB0P6hTbGiIgHCivLfoxiTN1NNs2YzmIPr5BvkNcSdlKgkdwSGpKc0tJTQlD3TPZL/4x2TliO/gqfxwHFyIUPBHCCmUCvfua9i7up+XB4rrfMtj+0gXQ5tG81i7Tzsysy9LM4NC11X3YNNvl3SffK+Eb5pnqtOwl7gHzu/dn/Gz/6P92AOP/YQBOA7IGEgn5BpP/RPxl/Oz9Lfob8TDt4u2r7vDrteQP3wvcpdjH2DvaStv+2kDWTtIh1vLaP9uA2aLbN+Gh5RPoT+n569HuVPKb+Pn7ywHGCcQGPQWwDGgThxb6FY4X8B4FH2QgsSc1IWsivCxwJ4AonTIPLQ8pLzBsLFEuzDkfNqAx6jeKNNQqJid5JBEmhSw7KIcf+B0uG+oW7A1lCBoJfgj1A97+N/pV9cnxXuvV5qnofeuw6FjjleJg4+Th8eDf4LDjMOaG5mjmkOav6Pnn1+Vr6YDt/++u8Tzyp/N/9AjyB/Am88z0IvPn8QDypvMB9BHur+st7fLsHesH6pjpluhu577jmOTR54nmPufg65nkyueG73/oiOn17DPs8vO/8Urwz/qT85n4i/5Z+NYCSQeGATMHDwoMCv4Nyw3YD/EUVhKhEVYZcBlJFEQepxkIFLIntBw7FHkehB4BGz0d4yGvGa4fQyTEF60gVCHmHLQjoR2JG3gfZBsIFo0ZHRq7FQQXuRRTDuwR/w00CA4JPQb/BWUDgP7c/9z9z/oo+Mb13fVL9Gzz6/E487zvxu3y7/bqq+u18l7tEelR8evuouz48NPrG+8V8hnuDvFl8tPvn+897m/tRO8j8fXt2eu78ALvHO2X77frE+wB7y7uW/Ce7pnuSfTg7AztO/eO8P3so/iY9bbxePvZ80n2xfnP/Iv7Wfnm/vUCg/9r/VUDtwFNBeUIMAXXBb4Q2QfSB5AM0g2cC48QKgshCncWLgtzCoERswpVDZgXcgHgDt0U2QkvDX0L2w4uDA8NHBB5CxkKgg6OC9QMWgeED90MxAQHC5kNwwZ7CE0JqAlDB2cDwQoNBm0KywXLA+oMOQX0Af8FEgbZBnv+UwWvA2YCWP7H/u8G8Pn5AXgDBvo8AGEEs/Q6+rUDdPqG9Zz7XAAT9/n2Jfuk+9f25/RM/5f5tu5t/uT+HfBf8sABEfue6JP58AUa86vzzv8R9jv0DQDX+17srwLABevrwfrvCoDyXPO+CwT6KvcgA6sAPvtH/bwCsv57/wgFVP3qA5sEdgMQAW8Amgux/hQCiAqOAZ0CageiBQEGxQAFDCMHwwAzC7MKU/6tBl4Mu/oXBzYKNwCUA3gBHwXNAoYAeQWrApMEdgDKBZEAp/8xCHgBpP6tBKoA0f4zArIDj/tAA2UG5v2nBJj9PQO5/boACQmM+aEBHQ0x9cD+BxAd9Lf8ZAz0+M/84Qv3+gL9agfo9Z36pgUR+1D/8wta9uf3RQlf/5b5+QhTAR32Iggv/9P4CAttADnp/BKq/zDwyRFpAMj1qQdM/xn3CgNjAX8AcvZ9CbwALfcjA1AEbvOGBcsJ9PfgAxEET/RK/YYEt/s1A1L9+P2I/W4CNPr1ALQCwf00/QIDIAP3/xEGLP+W/fwAjABC/i0ATwA2/soG4AEr9S4NKwDa8RUUGAEV9LkU5fmn8j8MTf6p+qsErv3//PUMt/cr9yAQR/VP+dcRVPlyAUYDU/xXBrL5HAH1BcP/+/rQBjkGev2M/lwJ9f4A/8sI3P6f/ZMDbvs3+SQVIvQx9CcZ3/Hx9+cXEOxy/lgU1vfTAP4DCQHsAQb2hgTsDcH03ATtEBPt5/9+FOvyJ/ajEXcEofRdCbkFO/f2Bv8GD/wrCKYADQyF/LPzqRY78w70bhjV+7L21BL6AIf04wo8CXDxW/5MElH87/lzDTMH/PGYBkwEXPgfDeAHlP+2/1kGKgPa8HIG5g6V8aQQ1wp48tcFRg2d7xr+tw3K/AQG/P0t+8oKpfmp9ZISm/O6/OAV9vXR+HkVSfuA8egF6Ao4/10BVwWu/lIEUPpKCI/8B/kZGbT2xvrHEh/zofpZ/Hf89g3mAwn0V/s0CKz94fjS++f9egou/5v7pwjb+ir/ege79XP/xg8pAYLvIAfzDCT3rPiz+zUAhf9OAKAB+fXuBOMGQ/V7AJj9tgULAojxbwKQCt/5LALF/MIAPQS4+UH8LvzmA4wEgP1M+Xr/D/yYAtzwrPhADrABPfdt/XUBRv1eAA78Zv05Cib+iwCWBdLz/wehAgj2v/iMCBQILfSN+xT/DAYe+iH24wRx/gICif+w+xj8bQfR/sX3XvuC+hMHpPzC98T+vgTNArL2TflfCE3+FQQfAOf8kv49BVwBU+4R/pYToe9V8xcf1fC98PYM5vbM8NAX5AB85FEN3wXU6mALBP5c8CwNjQNe9cL/BQadAIIAkfQGCHMIveqcBxIQD+HYC84Rz98TAh0SvvcO9JACswaz9DsItgPp6lcIpgrn97f5kxAZ/Z/ylA3Q+ob5Sw2j+bT19QeBCnb3Ovq7/6ICdPwP+4YKZfYn/jsLMvHz/bMUUfYp+5sKru/fAS0XoegZ99oTZPqv9r0GYwAf+IcJZvt1AIQJ5gE8/9n5+v23Cj4FO+nUBZ0ZZuzaAkAVZOpYBYoZlO3W+qgYj/qs9UILk/3P/FwKjfTZ91ASGwJw9VwKPf4X9EMN8gLP8pACJAhz/Ln8LgIKDfb51/LqD1X8pgDnBDr8DweKBe8Cpfsp9UYIwAQ0AKQDqvrpCD0BMv/e+4f9jABeCO77i/6KFE78+/lsC/H2Rv3nDon0L/rNEc7/4u4bC9z9GvDHAw4HLPw8CQoCIvb6B6v4ogEtCWn0UAS0DA39UwQcAS8Fnvo2+78LvwVq/3L8sPsr/wkIz/dN9UYCXwZa+ML9/AVD+ikKNvsq7TMO6gZF+04D7PmWAPwEIAGE9Ff95RC2/B71SvxQBecILfVq81gHAQT8/7MC+fh+798RdwrB3w8HLBZs8d3+JwQw+eEI8fqV/Rf3xPsYD+MAQ+mtAD8Tz/c09jgFt/4a/GIEpvOF+EUIsgGS8Yz9CwoJ/Sb1hwLp/Iz28gdQB/XxbvhsEG3y4fHyDR74l//BAtPwngvZAybxiPs3/x0GoAEP+uTyVglfCHbyS/4//abz6gcHEyHp2vbiEsn4+/ObBCAECPw2+oD61fv/CJjzT/ns/mv5wgQR8ekBnfvH90II6QSv60P15gwMAgTsnwXWCVzvggE1/7r79/089jj+pw6o97D7bgSr/1z44AbC/k3sZAK9EIH4o+ZbCtf/jPSb/fb8DQSY9PD49RB87JPy4RlzAKbq3gZvAzvwLwhCBT/1nAJDAsb2KgOHAeT1GAOjDcXq1PtpEO3uHvf1BXkHtfvW8MkF2Q2g80b4IAx3ADrvTQLlEQDx7wIyEk3uVPhyCNwAbvpB/hf9IPweBe73//szBCL/GwIZAAQFYvl//f8GK/1gAdj+3AW0A3rs2wGBDBn7k/xuBa7/KPoSBU0BGPGyBBYau/aP7IkIERPu8zP54Qy79Zb4MhLODzbjjvR4GZj73etEDO8Wi+8X8jMXMvyd8XsOmvrr+NQOXvmr9JgSlu/z8Z8dpfZY5NwQJBYc8rv04wSLBoP8ffkyA7kFuQSx+//6nQ6v+fb1wQ10AzXwgv3pFa7+2+tJBiMVg+pF9k8UtQWF9nb1vg0vBCv5cfzo/WQLUPq0+4oQHvBj8G8aNwRP3W8FuhUk9Bbz9v5ND4b/ZvIdAZv/W/+aA1cGGPeA+WEPNAYi/aP71ACsBE8CL/xiAusJM/3n+W3+agLT/VP+iv8X/ksDPggu+03zmPlODnwLvPB2A40G8vqF+z0BHPxs+QIGegeA/a/6RgWd/Xb3QwbUBXz3/fmBBowDKvl3/Yf+qwP2/oP+4wMS9WwBcgkm9CT77v09/EMKMgZX9sf7QAvxAP3oWwY4FWv0bP4dAQ7+r//R/Tb+SQdUAqzz3v9JCxT33/eQA9wD7ffn7qcMHg058ADy8g/kA13zcQXzCrLwXPO6CfkJiPOp9lAQ3AEf+JkHEPyz8ZUBwwPkAzv9SgMnB5352vcN+9L7tf4xC5YOxfUk+w0IRPvV9pz70gnRCan5sgMfByL8HgJw+iD39wINCncKOAEv+9UEYAdmAKz5a/3MASAKxAfS/ToE2/4T/DkCX//m/RsDgQizBF3/zgR3Atf6qf/3BzAGzARH/6EE6gfL/lQDkAWTBMUClgCFA/j/Qv2qA3YFpQBh/tUHVgSZ+1QDgQilBPYAlP8LBagESQCuABwAggEpAPQCmwDH/g8CGwEcAbABTQFsAMn+bADRAO3/+gFFABgAFQOKAIj9avz//a//Evxp/Lr+UwA+AGAAawGp/3j8cP4QAIP/+f8SAFoDPgGK/qgAMAA0/vj/LQHe/7z77/gW/GL8bfpN/BL/G//KAAgBov/R/uz7Ovza/MD8svy5/D3+Tf4Y/uz9h/2Y/Hv8qfy9/Vb+gfuF+yD94/2z/Sj90v4gACz+Ff5K/1r+av+o/w8BSwBB/8z/2P6K/7j/uv3T+3L79vow/J/8rfvR/An+/P32/pP+1v5N/wz+pf28/UH/Hf/L/p//T/8IAL0AewCCAEoAVv8W/5z+VP5p/hD+bf79/hD/Lv/H/4H/5/6n/hcABQGeAOj/MABlAF8AcwA+AL//DwBfAK//XwArABkAfv/i/48AMAEaAXUA9gDGADsBPwG5ABIBfAHJAIgAWQGVAOsAoQGRAH4AxAAEAQICpwE6AcsBdwDkAH8A6wA/AYAAygDMAGcBbQHtAYMBEgLnAYUB4gHIAUwCygGTARoCiwE0AaABGAJqAlkC+gEzAo8CiwJcAq4BmQGhARkC4gKEAgYCZgIYApoBHAJbAu8C2gLcASsC4gHJAS4CwwLtAigCNAMTAwwB0gESAoABswLvApgDlQPJAmAC1gEeAZgBJgK/AnkCpgFVA78CkwKEA+QCQwK7ARICbAI+A9ECnQLHAqABkgIfAsMAPgFAAkID/AJSA9sDOQIkAuACGQKAAVcBlwHTAUcCPgKNAsECBgM1AyMDvwIBAq8CNQPBAq0CcwK2AdkBmgGHAt0CzAH/ASYCXwIhAiACLAKqAvkCaQLkAcAB8wE5ATkCZgPGAlcCbAJlAqwCfQJHArUCNwKbAnECXwLCAiMCXAGzAfMBMAGeAZoB9AByAYsB7gEqAm8ClQJ0AikCCQJrAjkBbwFgAhwCSAHxAU4CFwJAAeIAMQGSARIBfwB6AJUATwFdAfIBoAEKAiEBowGkAXEBXwLXAeABBgKhAfgA6QAHAL3/OwDQAJAAWwDX/2MACAE6ACQArgC4AZoBPQE+AtABrAHDAdMAcwANALMAuADdANIAbwBLAHUAbgCJAJ0AkgAsAfUArwDxAL0Az/83AIEAdQB/ABoALwDS/yQAagFeAV8BGAH4AAABawFDAacAqgDv/54AwADTADsAdAAGAZEA6ADMAN0ANwD3/wUBDwEsAdgAdgByAZQAQAAy/4P/WQBiAM8ATACyAAwBLAHxAJUAHAF0Adv/dAC4AEcAbwDWALgAkwCwACAAuv82/0wANgC2/2cAlwA6AEQABADgAAMBBQBeAPj/BwDHAIMAVQBHAPD/NQDJAIEBWAGLAC8BkwAUACIAmv8oABsA4v8VAOH/hgCnAOD/dAB5AFQAKP8R/0QAJwATAIwAfgB9AH4A7v8AAKb/HwDrAA==\" type=\"audio/wav\" />\n",
              "                    Your browser does not support the audio element.\n",
              "                </audio>\n",
              "              "
            ]
          },
          "metadata": {}
        }
      ]
    },
    {
      "cell_type": "code",
      "source": [
        "model.save(\"denoising_model.keras\")\n"
      ],
      "metadata": {
        "id": "B63CpBw3dJ16"
      },
      "execution_count": 40,
      "outputs": []
    },
    {
      "cell_type": "code",
      "source": [
        "model = tf.keras.models.load_model(\"denoising_model.keras\")\n"
      ],
      "metadata": {
        "id": "iAVohONEdWw1"
      },
      "execution_count": 41,
      "outputs": []
    },
    {
      "cell_type": "code",
      "source": [
        "model.save(\"denoising_model.keras\")\n"
      ],
      "metadata": {
        "id": "FoY94cPkdZF7"
      },
      "execution_count": 43,
      "outputs": []
    },
    {
      "cell_type": "code",
      "source": [
        "model = tf.keras.models.load_model(\"denoising_model.keras\")\n"
      ],
      "metadata": {
        "colab": {
          "base_uri": "https://localhost:8080/"
        },
        "id": "d2AG6DeHdtWn",
        "outputId": "7d77ff15-145d-4336-dbaa-8361ee8930e0"
      },
      "execution_count": 44,
      "outputs": [
        {
          "output_type": "stream",
          "name": "stderr",
          "text": [
            "/usr/local/lib/python3.11/dist-packages/keras/src/saving/saving_lib.py:757: UserWarning: Skipping variable loading for optimizer 'rmsprop', because it has 12 variables whereas the saved optimizer has 22 variables. \n",
            "  saveable.load_own_variables(weights_store.get(inner_path))\n"
          ]
        }
      ]
    },
    {
      "cell_type": "code",
      "source": [
        "model = tf.keras.models.load_model(\"denoising_model.keras\", compile=False)\n"
      ],
      "metadata": {
        "id": "7oz34v-EeEp_"
      },
      "execution_count": 45,
      "outputs": []
    },
    {
      "cell_type": "code",
      "source": [
        "from google.colab import files\n",
        "files.download(\"denoising_model.keras\")\n"
      ],
      "metadata": {
        "colab": {
          "base_uri": "https://localhost:8080/",
          "height": 17
        },
        "id": "ENpKTrN8eFwb",
        "outputId": "d34534d0-a251-4de6-cc5b-4a5b7e4b88fc"
      },
      "execution_count": 46,
      "outputs": [
        {
          "output_type": "display_data",
          "data": {
            "text/plain": [
              "<IPython.core.display.Javascript object>"
            ],
            "application/javascript": [
              "\n",
              "    async function download(id, filename, size) {\n",
              "      if (!google.colab.kernel.accessAllowed) {\n",
              "        return;\n",
              "      }\n",
              "      const div = document.createElement('div');\n",
              "      const label = document.createElement('label');\n",
              "      label.textContent = `Downloading \"${filename}\": `;\n",
              "      div.appendChild(label);\n",
              "      const progress = document.createElement('progress');\n",
              "      progress.max = size;\n",
              "      div.appendChild(progress);\n",
              "      document.body.appendChild(div);\n",
              "\n",
              "      const buffers = [];\n",
              "      let downloaded = 0;\n",
              "\n",
              "      const channel = await google.colab.kernel.comms.open(id);\n",
              "      // Send a message to notify the kernel that we're ready.\n",
              "      channel.send({})\n",
              "\n",
              "      for await (const message of channel.messages) {\n",
              "        // Send a message to notify the kernel that we're ready.\n",
              "        channel.send({})\n",
              "        if (message.buffers) {\n",
              "          for (const buffer of message.buffers) {\n",
              "            buffers.push(buffer);\n",
              "            downloaded += buffer.byteLength;\n",
              "            progress.value = downloaded;\n",
              "          }\n",
              "        }\n",
              "      }\n",
              "      const blob = new Blob(buffers, {type: 'application/binary'});\n",
              "      const a = document.createElement('a');\n",
              "      a.href = window.URL.createObjectURL(blob);\n",
              "      a.download = filename;\n",
              "      div.appendChild(a);\n",
              "      a.click();\n",
              "      div.remove();\n",
              "    }\n",
              "  "
            ]
          },
          "metadata": {}
        },
        {
          "output_type": "display_data",
          "data": {
            "text/plain": [
              "<IPython.core.display.Javascript object>"
            ],
            "application/javascript": [
              "download(\"download_822b08ac-1d11-4085-90e1-0d9a683d49bc\", \"denoising_model.keras\", 61613)"
            ]
          },
          "metadata": {}
        }
      ]
    },
    {
      "cell_type": "code",
      "source": [
        "from google.colab import files\n",
        "files.download(\"denoising_model.h5\")\n"
      ],
      "metadata": {
        "colab": {
          "base_uri": "https://localhost:8080/",
          "height": 17
        },
        "id": "l4YJ7eyVeMif",
        "outputId": "2d04191e-2f5a-491b-d8b4-96c0b2f41e94"
      },
      "execution_count": 47,
      "outputs": [
        {
          "output_type": "display_data",
          "data": {
            "text/plain": [
              "<IPython.core.display.Javascript object>"
            ],
            "application/javascript": [
              "\n",
              "    async function download(id, filename, size) {\n",
              "      if (!google.colab.kernel.accessAllowed) {\n",
              "        return;\n",
              "      }\n",
              "      const div = document.createElement('div');\n",
              "      const label = document.createElement('label');\n",
              "      label.textContent = `Downloading \"${filename}\": `;\n",
              "      div.appendChild(label);\n",
              "      const progress = document.createElement('progress');\n",
              "      progress.max = size;\n",
              "      div.appendChild(progress);\n",
              "      document.body.appendChild(div);\n",
              "\n",
              "      const buffers = [];\n",
              "      let downloaded = 0;\n",
              "\n",
              "      const channel = await google.colab.kernel.comms.open(id);\n",
              "      // Send a message to notify the kernel that we're ready.\n",
              "      channel.send({})\n",
              "\n",
              "      for await (const message of channel.messages) {\n",
              "        // Send a message to notify the kernel that we're ready.\n",
              "        channel.send({})\n",
              "        if (message.buffers) {\n",
              "          for (const buffer of message.buffers) {\n",
              "            buffers.push(buffer);\n",
              "            downloaded += buffer.byteLength;\n",
              "            progress.value = downloaded;\n",
              "          }\n",
              "        }\n",
              "      }\n",
              "      const blob = new Blob(buffers, {type: 'application/binary'});\n",
              "      const a = document.createElement('a');\n",
              "      a.href = window.URL.createObjectURL(blob);\n",
              "      a.download = filename;\n",
              "      div.appendChild(a);\n",
              "      a.click();\n",
              "      div.remove();\n",
              "    }\n",
              "  "
            ]
          },
          "metadata": {}
        },
        {
          "output_type": "display_data",
          "data": {
            "text/plain": [
              "<IPython.core.display.Javascript object>"
            ],
            "application/javascript": [
              "download(\"download_0f55007f-50da-44a1-a3a9-39d3b40e50d8\", \"denoising_model.h5\", 59520)"
            ]
          },
          "metadata": {}
        }
      ]
    }
  ]
}